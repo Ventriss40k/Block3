{
 "cells": [
  {
   "cell_type": "markdown",
   "id": "a73f5366",
   "metadata": {},
   "source": [
    "## Exercise 2"
   ]
  },
  {
   "cell_type": "markdown",
   "id": "ad5ee52f",
   "metadata": {},
   "source": [
    "1. Прочитайте файл 2017_jun_final.csv с помощью метода read_csv\n",
    "2. Прочитайте полученную таблицу используя метод head\n",
    "3. Определите размер таблицы с помощью метода shape\n",
    "4. Определите типы всех столбцов с помощью dataframe.dtypes\n",
    "5. Посчитайте, какая доля пропусков содержится в каждой колонке (используйте методы isnull и sum)\n",
    "6. Удалите все столбцы с пропусками, кроме столбца \"Язык.программирования\"\n",
    "7. Опять посчитайте, какая доля пропусков содержится в каждой колонке и убедитесь, что остался только столбец \"Язык.программирования\"\n",
    "8. Удалите все строки в исходной таблице с помощью метода dropna\n",
    "9. Определите новый размер таблицы с помощью метода shape\n",
    "10. Создайте новую таблицу python_data в которой будут только строки со специалистами указавшими язык программирования Python\n",
    "11. Определите размер таблицы python_data с помощью метода shape\n",
    "12. Используя метод groupby выполните группировку по столбцу \"Должность\"\n",
    "13. Создайте новый DataFrame, где для сгруппированных данных по столбцу \"Должность\", выполните агрегацию данных с помощью метода agg и найдите минимальное и максимальное значение в столбце \"Зарплата.в.месяц\"\n",
    "14. Создайте функцию fill_avg_salary которая будет возвращать среднее значение заработной платы в месяц. Используйте ее для метода apply и создайте новый столбик \"avg\"\n",
    "15. Создайте описательную статистику с помощью метода describe для нового столбца.\n",
    "16. Сохраните полученную таблицу в CSV файл"
   ]
  },
  {
   "cell_type": "code",
   "execution_count": 1,
   "id": "eeca7297",
   "metadata": {},
   "outputs": [],
   "source": [
    "import pandas as pd"
   ]
  },
  {
   "cell_type": "code",
   "execution_count": 2,
   "id": "af8cc6db",
   "metadata": {},
   "outputs": [],
   "source": [
    "import numpy as np"
   ]
  },
  {
   "cell_type": "markdown",
   "id": "024a3aae",
   "metadata": {},
   "source": [
    "## 1. Прочитайте файл 2017_jun_final.csv с помощью метода read_csv"
   ]
  },
  {
   "cell_type": "code",
   "execution_count": 3,
   "id": "2865c379",
   "metadata": {},
   "outputs": [],
   "source": [
    "data = pd.read_csv('2017_jun_final.csv')"
   ]
  },
  {
   "cell_type": "markdown",
   "id": "3bd13f4a",
   "metadata": {},
   "source": [
    "## 2. Прочитайте полученную таблицу используя метод head"
   ]
  },
  {
   "cell_type": "code",
   "execution_count": 4,
   "id": "6c24d559",
   "metadata": {},
   "outputs": [
    {
     "data": {
      "text/html": [
       "<div>\n",
       "<style scoped>\n",
       "    .dataframe tbody tr th:only-of-type {\n",
       "        vertical-align: middle;\n",
       "    }\n",
       "\n",
       "    .dataframe tbody tr th {\n",
       "        vertical-align: top;\n",
       "    }\n",
       "\n",
       "    .dataframe thead th {\n",
       "        text-align: right;\n",
       "    }\n",
       "</style>\n",
       "<table border=\"1\" class=\"dataframe\">\n",
       "  <thead>\n",
       "    <tr style=\"text-align: right;\">\n",
       "      <th></th>\n",
       "      <th>N</th>\n",
       "      <th>Должность</th>\n",
       "      <th>Язык.программирования</th>\n",
       "      <th>Специализация</th>\n",
       "      <th>Общий.опыт.работы</th>\n",
       "      <th>Опыт.работы.на.текущем.месте</th>\n",
       "      <th>Зарплата.в.месяц</th>\n",
       "      <th>Изменение.зарплаты.за.12.месяцев</th>\n",
       "      <th>Город</th>\n",
       "      <th>Размер.компании</th>\n",
       "      <th>...</th>\n",
       "      <th>Еще.студент</th>\n",
       "      <th>Уровень.английского</th>\n",
       "      <th>Предметная.область</th>\n",
       "      <th>Дата.заполнения</th>\n",
       "      <th>User.Agent</th>\n",
       "      <th>exp</th>\n",
       "      <th>current_job_exp</th>\n",
       "      <th>salary</th>\n",
       "      <th>Валюта</th>\n",
       "      <th>cls</th>\n",
       "    </tr>\n",
       "  </thead>\n",
       "  <tbody>\n",
       "    <tr>\n",
       "      <th>0</th>\n",
       "      <td>1</td>\n",
       "      <td>Junior QA engineer</td>\n",
       "      <td>NaN</td>\n",
       "      <td>Manual QA</td>\n",
       "      <td>0.5</td>\n",
       "      <td>0.5</td>\n",
       "      <td>400</td>\n",
       "      <td>0</td>\n",
       "      <td>Харьков</td>\n",
       "      <td>до 10 человек</td>\n",
       "      <td>...</td>\n",
       "      <td>True</td>\n",
       "      <td>ниже среднего</td>\n",
       "      <td>iOS,eCommerce</td>\n",
       "      <td>12/06/2017 12:38:08</td>\n",
       "      <td>Mozilla/5.0 (Windows NT 10.0; Win64; x64) Appl...</td>\n",
       "      <td>0.5</td>\n",
       "      <td>0.5</td>\n",
       "      <td>400</td>\n",
       "      <td>NaN</td>\n",
       "      <td>QA</td>\n",
       "    </tr>\n",
       "    <tr>\n",
       "      <th>1</th>\n",
       "      <td>2</td>\n",
       "      <td>Junior QA engineer</td>\n",
       "      <td>NaN</td>\n",
       "      <td>Manual QA</td>\n",
       "      <td>меньше 3 месяцев</td>\n",
       "      <td>меньше 3 месяцев</td>\n",
       "      <td>430</td>\n",
       "      <td>130</td>\n",
       "      <td>Харьков</td>\n",
       "      <td>свыше 1000 человек</td>\n",
       "      <td>...</td>\n",
       "      <td>True</td>\n",
       "      <td>выше среднего</td>\n",
       "      <td>Веб-разработка</td>\n",
       "      <td>12/06/2017 12:42:51</td>\n",
       "      <td>Mozilla/5.0 (iPad; CPU OS 10_2_1 like Mac OS X...</td>\n",
       "      <td>0.0</td>\n",
       "      <td>0.0</td>\n",
       "      <td>430</td>\n",
       "      <td>NaN</td>\n",
       "      <td>QA</td>\n",
       "    </tr>\n",
       "    <tr>\n",
       "      <th>2</th>\n",
       "      <td>3</td>\n",
       "      <td>Software Engineer</td>\n",
       "      <td>C#/.NET</td>\n",
       "      <td>NaN</td>\n",
       "      <td>4</td>\n",
       "      <td>1</td>\n",
       "      <td>2500</td>\n",
       "      <td>800</td>\n",
       "      <td>Киев</td>\n",
       "      <td>до 1000 человек</td>\n",
       "      <td>...</td>\n",
       "      <td>False</td>\n",
       "      <td>средний</td>\n",
       "      <td>Веб-разработка,Корпоративные системы</td>\n",
       "      <td>12/06/2017 13:02:47</td>\n",
       "      <td>Mozilla/5.0 (Windows NT 10.0; Win64; x64) Appl...</td>\n",
       "      <td>4.0</td>\n",
       "      <td>1.0</td>\n",
       "      <td>2500</td>\n",
       "      <td>NaN</td>\n",
       "      <td>DEV</td>\n",
       "    </tr>\n",
       "    <tr>\n",
       "      <th>3</th>\n",
       "      <td>4</td>\n",
       "      <td>Software Engineer</td>\n",
       "      <td>JavaScript</td>\n",
       "      <td>NaN</td>\n",
       "      <td>5</td>\n",
       "      <td>4</td>\n",
       "      <td>2000</td>\n",
       "      <td>400</td>\n",
       "      <td>Одесса</td>\n",
       "      <td>до 200 человек</td>\n",
       "      <td>...</td>\n",
       "      <td>False</td>\n",
       "      <td>ниже среднего</td>\n",
       "      <td>Desktop Applications,Веб-разработка</td>\n",
       "      <td>12/06/2017 13:03:01</td>\n",
       "      <td>Mozilla/5.0 (Windows NT 6.1; Win64; x64) Apple...</td>\n",
       "      <td>5.0</td>\n",
       "      <td>4.0</td>\n",
       "      <td>2000</td>\n",
       "      <td>NaN</td>\n",
       "      <td>DEV</td>\n",
       "    </tr>\n",
       "  </tbody>\n",
       "</table>\n",
       "<p>4 rows × 25 columns</p>\n",
       "</div>"
      ],
      "text/plain": [
       "   N           Должность Язык.программирования Специализация  \\\n",
       "0  1  Junior QA engineer                   NaN     Manual QA   \n",
       "1  2  Junior QA engineer                   NaN     Manual QA   \n",
       "2  3   Software Engineer               C#/.NET           NaN   \n",
       "3  4   Software Engineer            JavaScript           NaN   \n",
       "\n",
       "  Общий.опыт.работы Опыт.работы.на.текущем.месте  Зарплата.в.месяц  \\\n",
       "0               0.5                          0.5               400   \n",
       "1  меньше 3 месяцев             меньше 3 месяцев               430   \n",
       "2                 4                            1              2500   \n",
       "3                 5                            4              2000   \n",
       "\n",
       "   Изменение.зарплаты.за.12.месяцев    Город     Размер.компании  ...  \\\n",
       "0                                 0  Харьков       до 10 человек  ...   \n",
       "1                               130  Харьков  свыше 1000 человек  ...   \n",
       "2                               800     Киев     до 1000 человек  ...   \n",
       "3                               400   Одесса      до 200 человек  ...   \n",
       "\n",
       "  Еще.студент Уровень.английского                    Предметная.область  \\\n",
       "0        True       ниже среднего                         iOS,eCommerce   \n",
       "1        True       выше среднего                        Веб-разработка   \n",
       "2       False             средний  Веб-разработка,Корпоративные системы   \n",
       "3       False       ниже среднего   Desktop Applications,Веб-разработка   \n",
       "\n",
       "       Дата.заполнения                                         User.Agent  \\\n",
       "0  12/06/2017 12:38:08  Mozilla/5.0 (Windows NT 10.0; Win64; x64) Appl...   \n",
       "1  12/06/2017 12:42:51  Mozilla/5.0 (iPad; CPU OS 10_2_1 like Mac OS X...   \n",
       "2  12/06/2017 13:02:47  Mozilla/5.0 (Windows NT 10.0; Win64; x64) Appl...   \n",
       "3  12/06/2017 13:03:01  Mozilla/5.0 (Windows NT 6.1; Win64; x64) Apple...   \n",
       "\n",
       "   exp current_job_exp salary Валюта  cls  \n",
       "0  0.5             0.5    400    NaN   QA  \n",
       "1  0.0             0.0    430    NaN   QA  \n",
       "2  4.0             1.0   2500    NaN  DEV  \n",
       "3  5.0             4.0   2000    NaN  DEV  \n",
       "\n",
       "[4 rows x 25 columns]"
      ]
     },
     "execution_count": 4,
     "metadata": {},
     "output_type": "execute_result"
    }
   ],
   "source": [
    "data.head(4)"
   ]
  },
  {
   "cell_type": "markdown",
   "id": "82f67dfb",
   "metadata": {},
   "source": [
    "## 3. Определите размер таблицы с помощью метода shape"
   ]
  },
  {
   "cell_type": "code",
   "execution_count": 5,
   "id": "f3ca85a9",
   "metadata": {},
   "outputs": [],
   "source": [
    "data_shape = data.shape"
   ]
  },
  {
   "cell_type": "markdown",
   "id": "e6a2613d",
   "metadata": {},
   "source": [
    "## 4. Определите типы всех столбцов с помощью dataframe.dtypes"
   ]
  },
  {
   "cell_type": "code",
   "execution_count": 6,
   "id": "0fad10f7",
   "metadata": {},
   "outputs": [
    {
     "data": {
      "text/plain": [
       "N                                     int64\n",
       "Должность                            object\n",
       "Язык.программирования                object\n",
       "Специализация                        object\n",
       "Общий.опыт.работы                    object\n",
       "Опыт.работы.на.текущем.месте         object\n",
       "Зарплата.в.месяц                      int64\n",
       "Изменение.зарплаты.за.12.месяцев      int64\n",
       "Город                                object\n",
       "Размер.компании                      object\n",
       "Тип.компании                         object\n",
       "Пол                                  object\n",
       "Возраст                               int64\n",
       "Образование                          object\n",
       "Университет                          object\n",
       "Еще.студент                            bool\n",
       "Уровень.английского                  object\n",
       "Предметная.область                   object\n",
       "Дата.заполнения                      object\n",
       "User.Agent                           object\n",
       "exp                                 float64\n",
       "current_job_exp                     float64\n",
       "salary                                int64\n",
       "Валюта                               object\n",
       "cls                                  object\n",
       "dtype: object"
      ]
     },
     "execution_count": 6,
     "metadata": {},
     "output_type": "execute_result"
    }
   ],
   "source": [
    "data.dtypes"
   ]
  },
  {
   "cell_type": "markdown",
   "id": "8e8350ca",
   "metadata": {},
   "source": [
    "## 5. Посчитайте, какая доля пропусков содержится в каждой колонке (используйте методы isnull и sum)"
   ]
  },
  {
   "cell_type": "code",
   "execution_count": 7,
   "id": "07b9904c",
   "metadata": {},
   "outputs": [],
   "source": [
    "column_names = [x for x in data]\n"
   ]
  },
  {
   "cell_type": "code",
   "execution_count": 8,
   "id": "e9202adb",
   "metadata": {},
   "outputs": [
    {
     "name": "stdout",
     "output_type": "stream",
     "text": [
      "0.0 % N\n",
      "0.0 % Должность\n",
      "44.232536764705884 % Язык.программирования\n",
      "82.93887867647058 % Специализация\n",
      "0.0 % Общий.опыт.работы\n",
      "0.0 % Опыт.работы.на.текущем.месте\n",
      "0.0 % Зарплата.в.месяц\n",
      "0.0 % Изменение.зарплаты.за.12.месяцев\n",
      "0.0 % Город\n",
      "0.0 % Размер.компании\n",
      "0.0 % Тип.компании\n",
      "0.0 % Пол\n",
      "0.0 % Возраст\n",
      "0.0 % Образование\n",
      "4.1130514705882355 % Университет\n",
      "0.0 % Еще.студент\n",
      "0.0 % Уровень.английского\n",
      "2.5620404411764706 % Предметная.область\n",
      "0.0 % Дата.заполнения\n",
      "0.0 % User.Agent\n",
      "0.0 % exp\n",
      "0.0 % current_job_exp\n",
      "0.0 % salary\n",
      "99.88511029411765 % Валюта\n",
      "18.083639705882355 % cls\n"
     ]
    }
   ],
   "source": [
    "for name in column_names:\n",
    "    print(sum(pd.isnull(data[name]))/data_shape[0]*100,\"%\",name)"
   ]
  },
  {
   "cell_type": "markdown",
   "id": "3f291346",
   "metadata": {},
   "source": [
    "## 6. Удалите все столбцы с пропусками, кроме столбца \"Язык.программирования\""
   ]
  },
  {
   "cell_type": "code",
   "execution_count": 18,
   "id": "009372f7",
   "metadata": {},
   "outputs": [
    {
     "data": {
      "text/plain": [
       "['N', 'Должность', 'Язык.программирования']"
      ]
     },
     "execution_count": 18,
     "metadata": {},
     "output_type": "execute_result"
    }
   ],
   "source": [
    "# We can apply dropna only to columns after \"Язык.программирования\", since before it there is no NaN\n",
    "columns_no_nan = column_names[:3]"
   ]
  },
  {
   "cell_type": "code",
   "execution_count": 23,
   "id": "6a83c3c6",
   "metadata": {},
   "outputs": [
    {
     "data": {
      "text/plain": [
       "['Специализация',\n",
       " 'Общий.опыт.работы',\n",
       " 'Опыт.работы.на.текущем.месте',\n",
       " 'Зарплата.в.месяц',\n",
       " 'Изменение.зарплаты.за.12.месяцев',\n",
       " 'Город',\n",
       " 'Размер.компании',\n",
       " 'Тип.компании',\n",
       " 'Пол',\n",
       " 'Возраст',\n",
       " 'Образование',\n",
       " 'Университет',\n",
       " 'Еще.студент',\n",
       " 'Уровень.английского',\n",
       " 'Предметная.область',\n",
       " 'Дата.заполнения',\n",
       " 'User.Agent',\n",
       " 'exp',\n",
       " 'current_job_exp',\n",
       " 'salary',\n",
       " 'Валюта',\n",
       " 'cls']"
      ]
     },
     "execution_count": 23,
     "metadata": {},
     "output_type": "execute_result"
    }
   ],
   "source": [
    "columns_to_nan=column_names[3:]\n",
    "columns_to_nan"
   ]
  },
  {
   "cell_type": "code",
   "execution_count": 38,
   "id": "7e6ee80c",
   "metadata": {},
   "outputs": [],
   "source": [
    "data_no_nan = data.loc[:,columns_no_nan]"
   ]
  },
  {
   "cell_type": "code",
   "execution_count": 42,
   "id": "3dc94337",
   "metadata": {},
   "outputs": [],
   "source": [
    "data_nan = data.loc[:,columns_to_nan].dropna(axis=1)"
   ]
  },
  {
   "cell_type": "code",
   "execution_count": 45,
   "id": "444cdb6a",
   "metadata": {},
   "outputs": [
    {
     "data": {
      "text/html": [
       "<div>\n",
       "<style scoped>\n",
       "    .dataframe tbody tr th:only-of-type {\n",
       "        vertical-align: middle;\n",
       "    }\n",
       "\n",
       "    .dataframe tbody tr th {\n",
       "        vertical-align: top;\n",
       "    }\n",
       "\n",
       "    .dataframe thead th {\n",
       "        text-align: right;\n",
       "    }\n",
       "</style>\n",
       "<table border=\"1\" class=\"dataframe\">\n",
       "  <thead>\n",
       "    <tr style=\"text-align: right;\">\n",
       "      <th></th>\n",
       "      <th>N</th>\n",
       "      <th>Должность</th>\n",
       "      <th>Язык.программирования</th>\n",
       "      <th>Общий.опыт.работы</th>\n",
       "      <th>Опыт.работы.на.текущем.месте</th>\n",
       "      <th>Зарплата.в.месяц</th>\n",
       "      <th>Изменение.зарплаты.за.12.месяцев</th>\n",
       "      <th>Город</th>\n",
       "      <th>Размер.компании</th>\n",
       "      <th>Тип.компании</th>\n",
       "      <th>Пол</th>\n",
       "      <th>Возраст</th>\n",
       "      <th>Образование</th>\n",
       "      <th>Еще.студент</th>\n",
       "      <th>Уровень.английского</th>\n",
       "      <th>Дата.заполнения</th>\n",
       "      <th>User.Agent</th>\n",
       "      <th>exp</th>\n",
       "      <th>current_job_exp</th>\n",
       "      <th>salary</th>\n",
       "    </tr>\n",
       "  </thead>\n",
       "  <tbody>\n",
       "    <tr>\n",
       "      <th>0</th>\n",
       "      <td>1</td>\n",
       "      <td>Junior QA engineer</td>\n",
       "      <td>NaN</td>\n",
       "      <td>0.5</td>\n",
       "      <td>0.5</td>\n",
       "      <td>400</td>\n",
       "      <td>0</td>\n",
       "      <td>Харьков</td>\n",
       "      <td>до 10 человек</td>\n",
       "      <td>Аутсорсинговая</td>\n",
       "      <td>женский</td>\n",
       "      <td>20</td>\n",
       "      <td>Незаконченное высшее</td>\n",
       "      <td>True</td>\n",
       "      <td>ниже среднего</td>\n",
       "      <td>12/06/2017 12:38:08</td>\n",
       "      <td>Mozilla/5.0 (Windows NT 10.0; Win64; x64) Appl...</td>\n",
       "      <td>0.5</td>\n",
       "      <td>0.5</td>\n",
       "      <td>400</td>\n",
       "    </tr>\n",
       "    <tr>\n",
       "      <th>1</th>\n",
       "      <td>2</td>\n",
       "      <td>Junior QA engineer</td>\n",
       "      <td>NaN</td>\n",
       "      <td>меньше 3 месяцев</td>\n",
       "      <td>меньше 3 месяцев</td>\n",
       "      <td>430</td>\n",
       "      <td>130</td>\n",
       "      <td>Харьков</td>\n",
       "      <td>свыше 1000 человек</td>\n",
       "      <td>Аутсорсинговая</td>\n",
       "      <td>женский</td>\n",
       "      <td>21</td>\n",
       "      <td>Незаконченное высшее</td>\n",
       "      <td>True</td>\n",
       "      <td>выше среднего</td>\n",
       "      <td>12/06/2017 12:42:51</td>\n",
       "      <td>Mozilla/5.0 (iPad; CPU OS 10_2_1 like Mac OS X...</td>\n",
       "      <td>0.0</td>\n",
       "      <td>0.0</td>\n",
       "      <td>430</td>\n",
       "    </tr>\n",
       "    <tr>\n",
       "      <th>2</th>\n",
       "      <td>3</td>\n",
       "      <td>Software Engineer</td>\n",
       "      <td>C#/.NET</td>\n",
       "      <td>4</td>\n",
       "      <td>1</td>\n",
       "      <td>2500</td>\n",
       "      <td>800</td>\n",
       "      <td>Киев</td>\n",
       "      <td>до 1000 человек</td>\n",
       "      <td>Аутсорсинговая</td>\n",
       "      <td>мужской</td>\n",
       "      <td>26</td>\n",
       "      <td>Высшее</td>\n",
       "      <td>False</td>\n",
       "      <td>средний</td>\n",
       "      <td>12/06/2017 13:02:47</td>\n",
       "      <td>Mozilla/5.0 (Windows NT 10.0; Win64; x64) Appl...</td>\n",
       "      <td>4.0</td>\n",
       "      <td>1.0</td>\n",
       "      <td>2500</td>\n",
       "    </tr>\n",
       "  </tbody>\n",
       "</table>\n",
       "</div>"
      ],
      "text/plain": [
       "   N           Должность Язык.программирования Общий.опыт.работы  \\\n",
       "0  1  Junior QA engineer                   NaN               0.5   \n",
       "1  2  Junior QA engineer                   NaN  меньше 3 месяцев   \n",
       "2  3   Software Engineer               C#/.NET                 4   \n",
       "\n",
       "  Опыт.работы.на.текущем.месте  Зарплата.в.месяц  \\\n",
       "0                          0.5               400   \n",
       "1             меньше 3 месяцев               430   \n",
       "2                            1              2500   \n",
       "\n",
       "   Изменение.зарплаты.за.12.месяцев    Город     Размер.компании  \\\n",
       "0                                 0  Харьков       до 10 человек   \n",
       "1                               130  Харьков  свыше 1000 человек   \n",
       "2                               800     Киев     до 1000 человек   \n",
       "\n",
       "     Тип.компании      Пол  Возраст           Образование  Еще.студент  \\\n",
       "0  Аутсорсинговая  женский       20  Незаконченное высшее         True   \n",
       "1  Аутсорсинговая  женский       21  Незаконченное высшее         True   \n",
       "2  Аутсорсинговая  мужской       26                Высшее        False   \n",
       "\n",
       "  Уровень.английского      Дата.заполнения  \\\n",
       "0       ниже среднего  12/06/2017 12:38:08   \n",
       "1       выше среднего  12/06/2017 12:42:51   \n",
       "2             средний  12/06/2017 13:02:47   \n",
       "\n",
       "                                          User.Agent  exp  current_job_exp  \\\n",
       "0  Mozilla/5.0 (Windows NT 10.0; Win64; x64) Appl...  0.5              0.5   \n",
       "1  Mozilla/5.0 (iPad; CPU OS 10_2_1 like Mac OS X...  0.0              0.0   \n",
       "2  Mozilla/5.0 (Windows NT 10.0; Win64; x64) Appl...  4.0              1.0   \n",
       "\n",
       "   salary  \n",
       "0     400  \n",
       "1     430  \n",
       "2    2500  "
      ]
     },
     "execution_count": 45,
     "metadata": {},
     "output_type": "execute_result"
    }
   ],
   "source": [
    "norm_data = pd.concat([data_no_nan,data_nan], axis=1,)\n",
    "norm_data.head(3)"
   ]
  },
  {
   "cell_type": "markdown",
   "id": "d8a7f0be",
   "metadata": {},
   "source": [
    "## 7. Опять посчитайте, какая доля пропусков содержится в каждой колонке и убедитесь, что остался только столбец \"Язык.программирования\""
   ]
  },
  {
   "cell_type": "code",
   "execution_count": 48,
   "id": "f40e0c3b",
   "metadata": {},
   "outputs": [],
   "source": [
    "n_column_names = [x for x in norm_data]"
   ]
  },
  {
   "cell_type": "code",
   "execution_count": 49,
   "id": "d431413a",
   "metadata": {},
   "outputs": [
    {
     "name": "stdout",
     "output_type": "stream",
     "text": [
      "0.0 % N\n",
      "0.0 % Должность\n",
      "44.232536764705884 % Язык.программирования\n",
      "0.0 % Общий.опыт.работы\n",
      "0.0 % Опыт.работы.на.текущем.месте\n",
      "0.0 % Зарплата.в.месяц\n",
      "0.0 % Изменение.зарплаты.за.12.месяцев\n",
      "0.0 % Город\n",
      "0.0 % Размер.компании\n",
      "0.0 % Тип.компании\n",
      "0.0 % Пол\n",
      "0.0 % Возраст\n",
      "0.0 % Образование\n",
      "0.0 % Еще.студент\n",
      "0.0 % Уровень.английского\n",
      "0.0 % Дата.заполнения\n",
      "0.0 % User.Agent\n",
      "0.0 % exp\n",
      "0.0 % current_job_exp\n",
      "0.0 % salary\n"
     ]
    }
   ],
   "source": [
    "for name in n_column_names:\n",
    "    print(sum(pd.isnull(norm_data[name]))/data_shape[0]*100,\"%\",name)"
   ]
  },
  {
   "cell_type": "markdown",
   "id": "6000f08c",
   "metadata": {},
   "source": [
    "## 8. Удалите все строки в исходной таблице с помощью метода dropna"
   ]
  },
  {
   "cell_type": "code",
   "execution_count": 53,
   "id": "a7ebe4ac",
   "metadata": {},
   "outputs": [],
   "source": [
    "dropna_data = data.dropna()"
   ]
  },
  {
   "cell_type": "markdown",
   "id": "0a38ef5f",
   "metadata": {},
   "source": [
    "## 9. Определите новый размер таблицы с помощью метода shape"
   ]
  },
  {
   "cell_type": "code",
   "execution_count": 54,
   "id": "39de95dd",
   "metadata": {},
   "outputs": [
    {
     "data": {
      "text/plain": [
       "(0, 25)"
      ]
     },
     "execution_count": 54,
     "metadata": {},
     "output_type": "execute_result"
    }
   ],
   "source": [
    "dropna_data.shape"
   ]
  },
  {
   "cell_type": "markdown",
   "id": "6bf647da",
   "metadata": {},
   "source": [
    "## 10. Создайте новую таблицу python_data в которой будут только строки со специалистами указавшими язык программирования Python"
   ]
  },
  {
   "cell_type": "code",
   "execution_count": 61,
   "id": "f996f701",
   "metadata": {},
   "outputs": [
    {
     "data": {
      "text/html": [
       "<div>\n",
       "<style scoped>\n",
       "    .dataframe tbody tr th:only-of-type {\n",
       "        vertical-align: middle;\n",
       "    }\n",
       "\n",
       "    .dataframe tbody tr th {\n",
       "        vertical-align: top;\n",
       "    }\n",
       "\n",
       "    .dataframe thead th {\n",
       "        text-align: right;\n",
       "    }\n",
       "</style>\n",
       "<table border=\"1\" class=\"dataframe\">\n",
       "  <thead>\n",
       "    <tr style=\"text-align: right;\">\n",
       "      <th></th>\n",
       "      <th>N</th>\n",
       "      <th>Должность</th>\n",
       "      <th>Язык.программирования</th>\n",
       "      <th>Специализация</th>\n",
       "      <th>Общий.опыт.работы</th>\n",
       "      <th>Опыт.работы.на.текущем.месте</th>\n",
       "      <th>Зарплата.в.месяц</th>\n",
       "      <th>Изменение.зарплаты.за.12.месяцев</th>\n",
       "      <th>Город</th>\n",
       "      <th>Размер.компании</th>\n",
       "      <th>...</th>\n",
       "      <th>Еще.студент</th>\n",
       "      <th>Уровень.английского</th>\n",
       "      <th>Предметная.область</th>\n",
       "      <th>Дата.заполнения</th>\n",
       "      <th>User.Agent</th>\n",
       "      <th>exp</th>\n",
       "      <th>current_job_exp</th>\n",
       "      <th>salary</th>\n",
       "      <th>Валюта</th>\n",
       "      <th>cls</th>\n",
       "    </tr>\n",
       "  </thead>\n",
       "  <tbody>\n",
       "    <tr>\n",
       "      <th>12</th>\n",
       "      <td>13</td>\n",
       "      <td>Software Engineer</td>\n",
       "      <td>Python</td>\n",
       "      <td>NaN</td>\n",
       "      <td>1</td>\n",
       "      <td>меньше 3 месяцев</td>\n",
       "      <td>800</td>\n",
       "      <td>200</td>\n",
       "      <td>Киев</td>\n",
       "      <td>до 50 человек</td>\n",
       "      <td>...</td>\n",
       "      <td>False</td>\n",
       "      <td>ниже среднего</td>\n",
       "      <td>Веб-разработка,Другое</td>\n",
       "      <td>12/06/2017 13:05:54</td>\n",
       "      <td>Mozilla/5.0 (Windows NT 6.1; Win64; x64) Apple...</td>\n",
       "      <td>1.0</td>\n",
       "      <td>0.0</td>\n",
       "      <td>800</td>\n",
       "      <td>NaN</td>\n",
       "      <td>DEV</td>\n",
       "    </tr>\n",
       "    <tr>\n",
       "      <th>68</th>\n",
       "      <td>69</td>\n",
       "      <td>Software Engineer</td>\n",
       "      <td>Python</td>\n",
       "      <td>NaN</td>\n",
       "      <td>1.5</td>\n",
       "      <td>0.5</td>\n",
       "      <td>900</td>\n",
       "      <td>900</td>\n",
       "      <td>Киев</td>\n",
       "      <td>до 10 человек</td>\n",
       "      <td>...</td>\n",
       "      <td>True</td>\n",
       "      <td>выше среднего</td>\n",
       "      <td>Веб-разработка</td>\n",
       "      <td>12/06/2017 13:11:17</td>\n",
       "      <td>Mozilla/5.0 (Windows NT 10.0; Win64; x64) Appl...</td>\n",
       "      <td>1.5</td>\n",
       "      <td>0.5</td>\n",
       "      <td>900</td>\n",
       "      <td>NaN</td>\n",
       "      <td>DEV</td>\n",
       "    </tr>\n",
       "    <tr>\n",
       "      <th>87</th>\n",
       "      <td>88</td>\n",
       "      <td>Junior Software Engineer</td>\n",
       "      <td>Python</td>\n",
       "      <td>NaN</td>\n",
       "      <td>0.5</td>\n",
       "      <td>0.5</td>\n",
       "      <td>600</td>\n",
       "      <td>0</td>\n",
       "      <td>Киев</td>\n",
       "      <td>до 10 человек</td>\n",
       "      <td>...</td>\n",
       "      <td>True</td>\n",
       "      <td>выше среднего</td>\n",
       "      <td>Веб-разработка,eCommerce</td>\n",
       "      <td>12/06/2017 13:12:25</td>\n",
       "      <td>Mozilla/5.0 (X11; Linux x86_64) AppleWebKit/53...</td>\n",
       "      <td>0.5</td>\n",
       "      <td>0.5</td>\n",
       "      <td>600</td>\n",
       "      <td>NaN</td>\n",
       "      <td>DEV</td>\n",
       "    </tr>\n",
       "  </tbody>\n",
       "</table>\n",
       "<p>3 rows × 25 columns</p>\n",
       "</div>"
      ],
      "text/plain": [
       "     N                 Должность Язык.программирования Специализация  \\\n",
       "12  13         Software Engineer                Python           NaN   \n",
       "68  69         Software Engineer                Python           NaN   \n",
       "87  88  Junior Software Engineer                Python           NaN   \n",
       "\n",
       "   Общий.опыт.работы Опыт.работы.на.текущем.месте  Зарплата.в.месяц  \\\n",
       "12                 1             меньше 3 месяцев               800   \n",
       "68               1.5                          0.5               900   \n",
       "87               0.5                          0.5               600   \n",
       "\n",
       "    Изменение.зарплаты.за.12.месяцев Город Размер.компании  ... Еще.студент  \\\n",
       "12                               200  Киев   до 50 человек  ...       False   \n",
       "68                               900  Киев   до 10 человек  ...        True   \n",
       "87                                 0  Киев   до 10 человек  ...        True   \n",
       "\n",
       "   Уровень.английского        Предметная.область      Дата.заполнения  \\\n",
       "12       ниже среднего     Веб-разработка,Другое  12/06/2017 13:05:54   \n",
       "68       выше среднего            Веб-разработка  12/06/2017 13:11:17   \n",
       "87       выше среднего  Веб-разработка,eCommerce  12/06/2017 13:12:25   \n",
       "\n",
       "                                           User.Agent  exp current_job_exp  \\\n",
       "12  Mozilla/5.0 (Windows NT 6.1; Win64; x64) Apple...  1.0             0.0   \n",
       "68  Mozilla/5.0 (Windows NT 10.0; Win64; x64) Appl...  1.5             0.5   \n",
       "87  Mozilla/5.0 (X11; Linux x86_64) AppleWebKit/53...  0.5             0.5   \n",
       "\n",
       "   salary Валюта  cls  \n",
       "12    800    NaN  DEV  \n",
       "68    900    NaN  DEV  \n",
       "87    600    NaN  DEV  \n",
       "\n",
       "[3 rows x 25 columns]"
      ]
     },
     "execution_count": 61,
     "metadata": {},
     "output_type": "execute_result"
    }
   ],
   "source": [
    "python_data = data[data[\"Язык.программирования\"]== \"Python\"]\n",
    "python_data.head(3)"
   ]
  },
  {
   "cell_type": "markdown",
   "id": "d55abdc9",
   "metadata": {},
   "source": [
    "## 11. Определите размер таблицы python_data с помощью метода shape"
   ]
  },
  {
   "cell_type": "code",
   "execution_count": 62,
   "id": "c6970ed3",
   "metadata": {},
   "outputs": [
    {
     "data": {
      "text/plain": [
       "(207, 25)"
      ]
     },
     "execution_count": 62,
     "metadata": {},
     "output_type": "execute_result"
    }
   ],
   "source": [
    "python_data.shape"
   ]
  },
  {
   "cell_type": "markdown",
   "id": "6d6bcfd8",
   "metadata": {},
   "source": [
    "## 12. Используя метод groupby выполните группировку по столбцу \"Должность\""
   ]
  },
  {
   "cell_type": "code",
   "execution_count": 63,
   "id": "e0a7ba9f",
   "metadata": {},
   "outputs": [
    {
     "data": {
      "text/plain": [
       "<pandas.core.groupby.generic.DataFrameGroupBy object at 0x000001D5A70B1250>"
      ]
     },
     "execution_count": 63,
     "metadata": {},
     "output_type": "execute_result"
    }
   ],
   "source": [
    "g_python_data = python_data.groupby(\"Должность\")\n",
    "g_python_data\n"
   ]
  },
  {
   "cell_type": "markdown",
   "id": "e9e76df5",
   "metadata": {},
   "source": [
    "## 13. Создайте новый DataFrame, где для сгруппированных данных по столбцу \"Должность\", выполните агрегацию данных с помощью метода agg и найдите минимальное и максимальное значение в столбце \"Зарплата.в.месяц\""
   ]
  },
  {
   "cell_type": "code",
   "execution_count": 84,
   "id": "69997ef2",
   "metadata": {},
   "outputs": [
    {
     "data": {
      "text/html": [
       "<div>\n",
       "<style scoped>\n",
       "    .dataframe tbody tr th:only-of-type {\n",
       "        vertical-align: middle;\n",
       "    }\n",
       "\n",
       "    .dataframe tbody tr th {\n",
       "        vertical-align: top;\n",
       "    }\n",
       "\n",
       "    .dataframe thead tr th {\n",
       "        text-align: left;\n",
       "    }\n",
       "\n",
       "    .dataframe thead tr:last-of-type th {\n",
       "        text-align: right;\n",
       "    }\n",
       "</style>\n",
       "<table border=\"1\" class=\"dataframe\">\n",
       "  <thead>\n",
       "    <tr>\n",
       "      <th></th>\n",
       "      <th colspan=\"2\" halign=\"left\">Зарплата.в.месяц</th>\n",
       "    </tr>\n",
       "    <tr>\n",
       "      <th></th>\n",
       "      <th>min</th>\n",
       "      <th>max</th>\n",
       "    </tr>\n",
       "    <tr>\n",
       "      <th>Должность</th>\n",
       "      <th></th>\n",
       "      <th></th>\n",
       "    </tr>\n",
       "  </thead>\n",
       "  <tbody>\n",
       "    <tr>\n",
       "      <th>Junior Software Engineer</th>\n",
       "      <td>100</td>\n",
       "      <td>1250</td>\n",
       "    </tr>\n",
       "    <tr>\n",
       "      <th>Senior Software Engineer</th>\n",
       "      <td>1300</td>\n",
       "      <td>9200</td>\n",
       "    </tr>\n",
       "    <tr>\n",
       "      <th>Software Engineer</th>\n",
       "      <td>500</td>\n",
       "      <td>5400</td>\n",
       "    </tr>\n",
       "    <tr>\n",
       "      <th>System Architect</th>\n",
       "      <td>3000</td>\n",
       "      <td>5000</td>\n",
       "    </tr>\n",
       "    <tr>\n",
       "      <th>Technical Lead</th>\n",
       "      <td>1425</td>\n",
       "      <td>6200</td>\n",
       "    </tr>\n",
       "  </tbody>\n",
       "</table>\n",
       "</div>"
      ],
      "text/plain": [
       "                         Зарплата.в.месяц      \n",
       "                                      min   max\n",
       "Должность                                      \n",
       "Junior Software Engineer              100  1250\n",
       "Senior Software Engineer             1300  9200\n",
       "Software Engineer                     500  5400\n",
       "System Architect                     3000  5000\n",
       "Technical Lead                       1425  6200"
      ]
     },
     "execution_count": 84,
     "metadata": {},
     "output_type": "execute_result"
    }
   ],
   "source": [
    "data_stat = g_python_data.agg({\"Зарплата.в.месяц\" : ['min','max']})\n",
    "data_stat"
   ]
  },
  {
   "cell_type": "markdown",
   "id": "3ec6c261",
   "metadata": {},
   "source": [
    "## 14. Создайте функцию fill_avg_salary которая будет возвращать среднее значение заработной платы в месяц. Используйте ее для метода apply и создайте новый столбик \"avg\""
   ]
  },
  {
   "cell_type": "code",
   "execution_count": 120,
   "id": "5c80dc8b",
   "metadata": {},
   "outputs": [],
   "source": [
    "def fill_avg_salary(dataframe):\n",
    "    dataframe['avg'] = dataframe.mean(axis=1)\n",
    "    return dataframe"
   ]
  },
  {
   "cell_type": "code",
   "execution_count": 127,
   "id": "266bc11b",
   "metadata": {},
   "outputs": [
    {
     "data": {
      "text/html": [
       "<div>\n",
       "<style scoped>\n",
       "    .dataframe tbody tr th:only-of-type {\n",
       "        vertical-align: middle;\n",
       "    }\n",
       "\n",
       "    .dataframe tbody tr th {\n",
       "        vertical-align: top;\n",
       "    }\n",
       "\n",
       "    .dataframe thead tr th {\n",
       "        text-align: left;\n",
       "    }\n",
       "\n",
       "    .dataframe thead tr:last-of-type th {\n",
       "        text-align: right;\n",
       "    }\n",
       "</style>\n",
       "<table border=\"1\" class=\"dataframe\">\n",
       "  <thead>\n",
       "    <tr>\n",
       "      <th></th>\n",
       "      <th colspan=\"2\" halign=\"left\">Зарплата.в.месяц</th>\n",
       "      <th>avg</th>\n",
       "    </tr>\n",
       "    <tr>\n",
       "      <th></th>\n",
       "      <th>min</th>\n",
       "      <th>max</th>\n",
       "      <th></th>\n",
       "    </tr>\n",
       "    <tr>\n",
       "      <th>Должность</th>\n",
       "      <th></th>\n",
       "      <th></th>\n",
       "      <th></th>\n",
       "    </tr>\n",
       "  </thead>\n",
       "  <tbody>\n",
       "    <tr>\n",
       "      <th>Junior Software Engineer</th>\n",
       "      <td>100</td>\n",
       "      <td>1250</td>\n",
       "      <td>675.0</td>\n",
       "    </tr>\n",
       "    <tr>\n",
       "      <th>Senior Software Engineer</th>\n",
       "      <td>1300</td>\n",
       "      <td>9200</td>\n",
       "      <td>5250.0</td>\n",
       "    </tr>\n",
       "    <tr>\n",
       "      <th>Software Engineer</th>\n",
       "      <td>500</td>\n",
       "      <td>5400</td>\n",
       "      <td>2950.0</td>\n",
       "    </tr>\n",
       "    <tr>\n",
       "      <th>System Architect</th>\n",
       "      <td>3000</td>\n",
       "      <td>5000</td>\n",
       "      <td>4000.0</td>\n",
       "    </tr>\n",
       "    <tr>\n",
       "      <th>Technical Lead</th>\n",
       "      <td>1425</td>\n",
       "      <td>6200</td>\n",
       "      <td>3812.5</td>\n",
       "    </tr>\n",
       "  </tbody>\n",
       "</table>\n",
       "</div>"
      ],
      "text/plain": [
       "                         Зарплата.в.месяц           avg\n",
       "                                      min   max        \n",
       "Должность                                              \n",
       "Junior Software Engineer              100  1250   675.0\n",
       "Senior Software Engineer             1300  9200  5250.0\n",
       "Software Engineer                     500  5400  2950.0\n",
       "System Architect                     3000  5000  4000.0\n",
       "Technical Lead                       1425  6200  3812.5"
      ]
     },
     "execution_count": 127,
     "metadata": {},
     "output_type": "execute_result"
    }
   ],
   "source": [
    "data_stat2= fill_avg_salary(data_stat)\n",
    "data_stat2"
   ]
  },
  {
   "cell_type": "markdown",
   "id": "658242a9",
   "metadata": {},
   "source": [
    "## 15. Создайте описательную статистику с помощью метода describe для нового столбца."
   ]
  },
  {
   "cell_type": "code",
   "execution_count": 128,
   "id": "e9a5ce93",
   "metadata": {},
   "outputs": [
    {
     "data": {
      "text/plain": [
       "count       5.000000\n",
       "mean     3337.500000\n",
       "std      1700.091909\n",
       "min       675.000000\n",
       "25%      2950.000000\n",
       "50%      3812.500000\n",
       "75%      4000.000000\n",
       "max      5250.000000\n",
       "Name: avg, dtype: float64"
      ]
     },
     "execution_count": 128,
     "metadata": {},
     "output_type": "execute_result"
    }
   ],
   "source": [
    "data_stat2['avg'].describe()"
   ]
  },
  {
   "cell_type": "markdown",
   "id": "b1584e59",
   "metadata": {},
   "source": [
    "## 16. Сохраните полученную таблицу в CSV файл"
   ]
  },
  {
   "cell_type": "code",
   "execution_count": 130,
   "id": "6c4294dd",
   "metadata": {},
   "outputs": [],
   "source": [
    "data_stat2.to_csv('It_sallary_stats.csv')"
   ]
  },
  {
   "cell_type": "code",
   "execution_count": null,
   "id": "1c5a0943",
   "metadata": {},
   "outputs": [],
   "source": []
  }
 ],
 "metadata": {
  "kernelspec": {
   "display_name": "Python 3 (ipykernel)",
   "language": "python",
   "name": "python3"
  },
  "language_info": {
   "codemirror_mode": {
    "name": "ipython",
    "version": 3
   },
   "file_extension": ".py",
   "mimetype": "text/x-python",
   "name": "python",
   "nbconvert_exporter": "python",
   "pygments_lexer": "ipython3",
   "version": "3.9.7"
  }
 },
 "nbformat": 4,
 "nbformat_minor": 5
}
