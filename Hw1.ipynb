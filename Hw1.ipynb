{
 "cells": [
  {
   "cell_type": "code",
   "execution_count": 1,
   "id": "144f2e59",
   "metadata": {},
   "outputs": [],
   "source": [
    "import numpy as np\n",
    "from numpy import linalg as LA\n"
   ]
  },
  {
   "cell_type": "markdown",
   "id": "814a229e",
   "metadata": {},
   "source": [
    "### Задача 1\n",
    "Вкладчик положил 50000 условных единиц на три разных счета в три разных банка.\n",
    "\n",
    "По первому счету выплаты составят 5% годовых, по второму – 7% годовых и по третьему 6% годовых. \n",
    "\n",
    "Известно, что через год вкладчик получил по процентам сумму в 2250 у.е. с первого и второго банка\n",
    "\n",
    "И сумму в 1400 у.е. с первого и третьего банка.\n",
    "\n",
    "Сколько условных единиц он положил на каждый счет изначально?"
   ]
  },
  {
   "cell_type": "markdown",
   "id": "a4c26d5a",
   "metadata": {},
   "source": [
    "\n"
   ]
  },
  {
   "cell_type": "markdown",
   "id": "67b5897a",
   "metadata": {},
   "source": [
    "---------------------\n",
    "Изначальные вклады в\n",
    "\n",
    "Первый счет = x   |5% = 0.05\n",
    "\n",
    "Второй счет = y   |7% = 0.07\n",
    "\n",
    "Третий счет = z   |6% = 0.06\n",
    "\n",
    "-------------------\n",
    "x + y + z = 50000\n",
    "\n",
    "0.05*x+0.07*y+0*z = 2250\n",
    "\n",
    "0.05*x+0*y+0.06*z = 1400\n",
    "\n",
    "x,y,z =?\n"
   ]
  },
  {
   "cell_type": "code",
   "execution_count": 2,
   "id": "246ca2e8",
   "metadata": {},
   "outputs": [
    {
     "data": {
      "text/plain": [
       "array([10000., 25000., 15000.])"
      ]
     },
     "execution_count": 2,
     "metadata": {},
     "output_type": "execute_result"
    }
   ],
   "source": [
    "a =[[1,1,1],\n",
    "   [0.05,0.07,0],\n",
    "   [0.05,0,0.06]]\n",
    "b = [50000,2250,1400]\n",
    "x = np.matmul(LA.inv(a),b)\n",
    "x"
   ]
  },
  {
   "cell_type": "markdown",
   "id": "c45c2522",
   "metadata": {},
   "source": [
    "### Ответ задачи 1\n",
    "Первый счет = 10000\n",
    "\n",
    "Второй счет = 25000\n",
    "\n",
    "Третий счет = 15000"
   ]
  },
  {
   "cell_type": "markdown",
   "id": "64a7795a",
   "metadata": {},
   "source": [
    "### Задача 2 \n",
    "На складе хранятся мобильные телефоны iPhone 6, iPhone 11, iPhone 12 моделей.\n",
    "\n",
    "Всего 1328 экземпляра.\n",
    "\n",
    "Моделей iPhone 6 на 120 меньше, чем моделей iPhone 11, и на 100 больше, чем моделей iPhone 12.\n",
    "\n",
    "Сколько моделей каждого вида на складе?"
   ]
  },
  {
   "cell_type": "markdown",
   "id": "1c5d2268",
   "metadata": {},
   "source": [
    "---------------------\n",
    "iPhone 6 = x\n",
    "\n",
    "iPhone 11 = y \n",
    "\n",
    "iPhone 12 = z\n"
   ]
  },
  {
   "cell_type": "markdown",
   "id": "b5a9d680",
   "metadata": {},
   "source": [
    "x + y + z = 1328 \n",
    "\n",
    "x - y - 0z = -120  \n",
    "\n",
    "x - 0y - z = 100\n"
   ]
  },
  {
   "cell_type": "code",
   "execution_count": 3,
   "id": "a6f41b6c",
   "metadata": {},
   "outputs": [
    {
     "data": {
      "text/plain": [
       "array([436., 556., 336.])"
      ]
     },
     "execution_count": 3,
     "metadata": {},
     "output_type": "execute_result"
    }
   ],
   "source": [
    "# решение с помощью метода linalg.solve:\n",
    "a = [[1,1,1],\n",
    "     [1,-1,0],\n",
    "     [1,0,-1]]\n",
    "b =[1328,-120,100]\n",
    "x = LA. solve(a,b)\n",
    "x"
   ]
  },
  {
   "cell_type": "code",
   "execution_count": 4,
   "id": "e48c6bb6",
   "metadata": {},
   "outputs": [
    {
     "data": {
      "text/plain": [
       "array([1328., -120.,  100.])"
      ]
     },
     "execution_count": 4,
     "metadata": {},
     "output_type": "execute_result"
    }
   ],
   "source": [
    "# Проверка: \n",
    "np.dot(a, x)"
   ]
  },
  {
   "cell_type": "code",
   "execution_count": 5,
   "id": "cbd4f4fa",
   "metadata": {},
   "outputs": [
    {
     "data": {
      "text/plain": [
       "array([436., 556., 336.])"
      ]
     },
     "execution_count": 5,
     "metadata": {},
     "output_type": "execute_result"
    }
   ],
   "source": [
    "# Решение через обратную матрицу:\n",
    "# Множим обратную матрицу коєфициентов на столбец свободных членов\n",
    "a = [[1,1,1],\n",
    "     [1,-1,0],\n",
    "     [1,0,-1]]\n",
    "b =[1328,-120,100]\n",
    "np.matmul(LA.inv(a),b)"
   ]
  },
  {
   "cell_type": "markdown",
   "id": "9f8bca2c",
   "metadata": {},
   "source": [
    "### Ответ задачи 2:\n",
    "iPhone 6 = 436\n",
    "\n",
    "iPhone 11 = 556\n",
    "\n",
    "iPhone 12 = 336"
   ]
  },
  {
   "cell_type": "markdown",
   "id": "ee7d6da6",
   "metadata": {},
   "source": [
    "### Задача 3\n",
    "Составьте каноническое уравнение эллипсоида, проходящего через три точки A,B,CA,B,C\n",
    "\n"
   ]
  },
  {
   "cell_type": "markdown",
   "id": "42133ef0",
   "metadata": {},
   "source": [
    "### Задача 3:\n",
    "Составьте каноническое уравнение эллипсоида, проходящего через три точки A,B,C\n",
    "\n",
    "A=(sqrt(3), 0, sqrt(3))\n",
    "\n",
    "B=(sqrt(6), 0.5, 0)\n",
    "\n",
    "C=(1, 1/sqrt(3), 1)\n",
    "\n",
    "Формула канонического уравнения элипсоида:\n",
    "\n",
    "(x^2)/(a^2) + (y^2)/(b^2) + (z^2)/(c^2) = 1\n"
   ]
  },
  {
   "cell_type": "markdown",
   "id": "0589afb0",
   "metadata": {},
   "source": [
    "Подставив в формулу значения точек, получим систему уравнений:\n",
    "\n",
    "3/(a^2) + 0/(b^2) + 3/(c^2) = 1\n",
    "\n",
    "6/(a^2) + 0.5/(b^2) + 0/(c^2) = 1\n",
    "\n",
    "1/(a^2) + 0.33(3)/b^2 + 1/(c^2) = 1\n"
   ]
  },
  {
   "cell_type": "markdown",
   "id": "ba60a5c4",
   "metadata": {},
   "source": [
    "Для того, что бы решить эту систему уравнений матричным способом, нужно привести каждое уравнение к виду\n",
    "ax + by + cz = n\n",
    "\n",
    "Нужно избавиться от знаменателей\n",
    "Для этого, выразим их как коефициенты\n",
    "\n",
    "k1 = 1/(a^2)\n",
    "\n",
    "k2 = 1/(b^2)\n",
    "\n",
    "k3 = 1/(c^2)\n",
    "\n",
    "Теперь выражения будут иметь вид xk1 + yk2 + zk3 = 1\n",
    "\n",
    "Стоит отметить, что в данном случае неизвестны k1,k2,k3\n",
    "x,y,z - известны\n",
    "\n",
    "Поэтому в данном случае x, y, z - это коэфициенты, а k1,k2,k3 - неизвестные\n",
    "a - матрица коефициентов неизвестных \n",
    "b - матрица свободных членов"
   ]
  },
  {
   "cell_type": "code",
   "execution_count": 6,
   "id": "71156ccc",
   "metadata": {},
   "outputs": [
    {
     "data": {
      "text/plain": [
       "array([0.        , 2.        , 0.33333333])"
      ]
     },
     "execution_count": 6,
     "metadata": {},
     "output_type": "execute_result"
    }
   ],
   "source": [
    "a = [[3,0,3],\n",
    "     [6,0.5,0],\n",
    "     [1,1/3,1]]\n",
    "b = [1,1,1]\n",
    "# x = np.matmul(LA.inv(a),b)\n",
    "k = LA.solve(a,b)\n",
    "k"
   ]
  },
  {
   "cell_type": "code",
   "execution_count": 7,
   "id": "7874dede",
   "metadata": {},
   "outputs": [],
   "source": [
    "k1 = 0\n",
    "k2 = 2\n",
    "k3 = 1/3"
   ]
  },
  {
   "cell_type": "markdown",
   "id": "26d9e226",
   "metadata": {},
   "source": [
    "k1: \n",
    "\n",
    "0 = 1/(a^2)\n",
    "\n",
    "a= 0\n",
    "\n",
    "-----------------------\n",
    "k2: \n",
    "\n",
    "2 = 1/(b^2) | *b^2\n",
    "\n",
    "2b^2 = 1 | /2\n",
    "\n",
    "b^2 = 0,5\n",
    "\n",
    "b = sqrt(0,5)\n",
    "\n",
    "-----------------------\n",
    "k3: \n",
    "\n",
    "1/3 = 1/(c^2) |*3c^2\n",
    "\n",
    "c^2 = 3\n",
    "\n",
    "c = sqrt(3)\n",
    "\n"
   ]
  },
  {
   "cell_type": "markdown",
   "id": "c89d490d",
   "metadata": {},
   "source": [
    "### Ответ задачи 3\n",
    "\n",
    "a= 0\n",
    "\n",
    "b = sqrt(0,5)\n",
    "\n",
    "c = sqrt(3)"
   ]
  },
  {
   "cell_type": "markdown",
   "id": "efcdac6b",
   "metadata": {},
   "source": [
    "# Задача 4 "
   ]
  },
  {
   "cell_type": "markdown",
   "id": "21fad64e",
   "metadata": {},
   "source": [
    "Составьте уравнение параболы проходящей через заданные три точки (1,12), (3,54), (-1,2).\n",
    "\n",
    "Необходимо найти коэффициенты уравнения a,b,c\n",
    "\n",
    "y=ax^2 + bx + c"
   ]
  },
  {
   "cell_type": "markdown",
   "id": "c4320254",
   "metadata": {},
   "source": [
    "Подставив значения точек, получим систему уравнений:\n",
    "\n",
    "1a + 1b + 1c = 12\n",
    "\n",
    "9a + 3b + 1c = 54 \n",
    "\n",
    "1a - 1b + 1c = 2 \n",
    "\n",
    "Матрица коефициентов - а\n",
    "Матрица свободных членов - b"
   ]
  },
  {
   "cell_type": "code",
   "execution_count": 8,
   "id": "fe0d970d",
   "metadata": {},
   "outputs": [
    {
     "data": {
      "text/plain": [
       "array([4., 5., 3.])"
      ]
     },
     "execution_count": 8,
     "metadata": {},
     "output_type": "execute_result"
    }
   ],
   "source": [
    "a = [[1,1,1],\n",
    "    [9,3,1],\n",
    "    [1,-1,1]]\n",
    "\n",
    "b =[12,54,2]\n",
    "x = LA.solve(a,b)\n",
    "x"
   ]
  },
  {
   "cell_type": "markdown",
   "id": "28020e83",
   "metadata": {},
   "source": [
    "### Ответ задачи 4\n",
    "\n",
    "a = 4\n",
    "\n",
    "b = 5\n",
    "\n",
    "c = 3\n"
   ]
  },
  {
   "cell_type": "markdown",
   "id": "e4e411ef",
   "metadata": {},
   "source": [
    "### Задача 5\n",
    "Составьте функцию get_polynom, которая по набору точек вида (x1,y1),(x2,y2),...., (xn+1,yn+1)\n",
    "\n",
    "И будет находить коэффициенты многочлена Ci\n",
    "\n",
    "Таким образом функция принимает список кортежей с координатами и возвращает набор коэффициентов\n",
    "\n",
    "C0, C1, Cn"
   ]
  },
  {
   "cell_type": "markdown",
   "id": "342c5565",
   "metadata": {},
   "source": [
    "-------------\n",
    "Итак, нужно написать функцию, которая может решить любое уравнение вида\n",
    "\n",
    "Сi*X^i + (Ci-1) * X^(i-1)...  C1*X + C0) = Y"
   ]
  },
  {
   "cell_type": "markdown",
   "id": "c400fcea",
   "metadata": {},
   "source": [
    "Например:\n",
    "\n",
    "    3х^3 + 2x^2+ x = Y\n",
    "    \n",
    "    2x^2+ x = Y\n",
    "    \n",
    "    5x^5 + 4x^4 + 3x^3 + 2x^2 + x = Y\n",
    "И т.д."
   ]
  },
  {
   "cell_type": "markdown",
   "id": "cc317a8d",
   "metadata": {},
   "source": [
    "Соотвветственно, у нас должны быть матрицы А и В\n",
    "\n",
    "А - Матрица коефициентов ( в данном случае координаты - Х)\n",
    "\n",
    "В - Матрица свободных членов ( в данном случае - координаты У)\n",
    "\n",
    "а исщутся в данном случае коефициенты (которые в примере выше были известными числами)\n",
    "\n",
    "------\n",
    "в матрице А нужно реализовать поднесение к степени,\n",
    "\n",
    "так что бы первый елемент имел степень равную количестве пар координат в аргументе\n",
    "\n",
    "Второй - степень на единицу меньшую, ... и последний - степень 1"
   ]
  },
  {
   "cell_type": "code",
   "execution_count": 20,
   "id": "95ea221b",
   "metadata": {},
   "outputs": [
    {
     "data": {
      "text/plain": [
       "array([ 14.91035354, -14.74747475,   2.93813131,  -0.1010101 ])"
      ]
     },
     "execution_count": 20,
     "metadata": {},
     "output_type": "execute_result"
    }
   ],
   "source": [
    "coords =[[1,3],[5,2],[7,21],[23,1]] \n",
    "def get_polynom(coords):\n",
    "    b = [] # матрица свободных членов (У)\n",
    "    a = [] # матрица коефициентов (Х)\n",
    "    for coord in coords:\n",
    "        b.append(coord[1]) \n",
    "        \n",
    "        for c in range(len(coords)):\n",
    "            a.append(coord[0]**c) # Форирование матрицы с иксами, поднесенными к нужной степени \n",
    "    a=np.array(a)\n",
    "    a=np.reshape(a, (len(coords), len(coords))) # Делаем из одномерной матрицы квадратную\n",
    "    b = np.array(b)\n",
    "    return np.linalg.solve(a, b)\n",
    "get_polynom(coords)"
   ]
  },
  {
   "cell_type": "code",
   "execution_count": null,
   "id": "639b99c1",
   "metadata": {},
   "outputs": [],
   "source": []
  }
 ],
 "metadata": {
  "kernelspec": {
   "display_name": "Python 3 (ipykernel)",
   "language": "python",
   "name": "python3"
  },
  "language_info": {
   "codemirror_mode": {
    "name": "ipython",
    "version": 3
   },
   "file_extension": ".py",
   "mimetype": "text/x-python",
   "name": "python",
   "nbconvert_exporter": "python",
   "pygments_lexer": "ipython3",
   "version": "3.9.7"
  }
 },
 "nbformat": 4,
 "nbformat_minor": 5
}
