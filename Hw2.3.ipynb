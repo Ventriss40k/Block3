{
 "cells": [
  {
   "cell_type": "markdown",
   "id": "f37ee4c1",
   "metadata": {},
   "source": [
    "# Exercise 3"
   ]
  },
  {
   "cell_type": "code",
   "execution_count": 1,
   "id": "3ffd916e",
   "metadata": {},
   "outputs": [],
   "source": [
    "import pandas as pd"
   ]
  },
  {
   "cell_type": "markdown",
   "id": "847bbef6",
   "metadata": {},
   "source": [
    "Для этого упражнения мы используем данные по Топ-50 рейтингу самых продаваемых книг на Amazon за 11 лет (с 2009 по 2019). Датасет находится в открытом доступе на Kaggle.com. Загрузите csv файл по ссылке и переместите его в ту же директорию, где находится ваш рабочий ноутбук (для удобства). После этого переходите к заданию"
   ]
  },
  {
   "cell_type": "markdown",
   "id": "f548ecac",
   "metadata": {},
   "source": [
    "1.1 Прочитайте csv файл (используйте функцию read_csv)\n",
    "\n",
    "1.2 Выведите первый пять строчек (используется функцию head)\n",
    "\n",
    "1.3 Выведите размеры датасета (используйте атрибут shape)\n",
    "\n",
    "1.4 Ответ: О скольки книгах хранит данные датасет?\n",
    "\n",
    "1.5 Привести названия колонок к виду: 'name', 'author', 'user_rating', 'reviews', 'price', 'year', 'genre'"
   ]
  },
  {
   "cell_type": "markdown",
   "id": "75bd1ec2",
   "metadata": {},
   "source": [
    "### 1.1 Прочитайте csv файл (используйте функцию read_csv)"
   ]
  },
  {
   "cell_type": "code",
   "execution_count": 2,
   "id": "53538eec",
   "metadata": {},
   "outputs": [],
   "source": [
    "# 1.1\n",
    "data = pd.read_csv('bestsellers with categories.csv')"
   ]
  },
  {
   "cell_type": "markdown",
   "id": "e2e1b4c0",
   "metadata": {},
   "source": [
    "### 1.2 Выведите первый пять строчек (используется функцию head)#"
   ]
  },
  {
   "cell_type": "code",
   "execution_count": 3,
   "id": "79e8cbb1",
   "metadata": {},
   "outputs": [
    {
     "data": {
      "text/html": [
       "<div>\n",
       "<style scoped>\n",
       "    .dataframe tbody tr th:only-of-type {\n",
       "        vertical-align: middle;\n",
       "    }\n",
       "\n",
       "    .dataframe tbody tr th {\n",
       "        vertical-align: top;\n",
       "    }\n",
       "\n",
       "    .dataframe thead th {\n",
       "        text-align: right;\n",
       "    }\n",
       "</style>\n",
       "<table border=\"1\" class=\"dataframe\">\n",
       "  <thead>\n",
       "    <tr style=\"text-align: right;\">\n",
       "      <th></th>\n",
       "      <th>Name</th>\n",
       "      <th>Author</th>\n",
       "      <th>User Rating</th>\n",
       "      <th>Reviews</th>\n",
       "      <th>Price</th>\n",
       "      <th>Year</th>\n",
       "      <th>Genre</th>\n",
       "    </tr>\n",
       "  </thead>\n",
       "  <tbody>\n",
       "    <tr>\n",
       "      <th>0</th>\n",
       "      <td>10-Day Green Smoothie Cleanse</td>\n",
       "      <td>JJ Smith</td>\n",
       "      <td>4.7</td>\n",
       "      <td>17350</td>\n",
       "      <td>8</td>\n",
       "      <td>2016</td>\n",
       "      <td>Non Fiction</td>\n",
       "    </tr>\n",
       "    <tr>\n",
       "      <th>1</th>\n",
       "      <td>11/22/63: A Novel</td>\n",
       "      <td>Stephen King</td>\n",
       "      <td>4.6</td>\n",
       "      <td>2052</td>\n",
       "      <td>22</td>\n",
       "      <td>2011</td>\n",
       "      <td>Fiction</td>\n",
       "    </tr>\n",
       "    <tr>\n",
       "      <th>2</th>\n",
       "      <td>12 Rules for Life: An Antidote to Chaos</td>\n",
       "      <td>Jordan B. Peterson</td>\n",
       "      <td>4.7</td>\n",
       "      <td>18979</td>\n",
       "      <td>15</td>\n",
       "      <td>2018</td>\n",
       "      <td>Non Fiction</td>\n",
       "    </tr>\n",
       "    <tr>\n",
       "      <th>3</th>\n",
       "      <td>1984 (Signet Classics)</td>\n",
       "      <td>George Orwell</td>\n",
       "      <td>4.7</td>\n",
       "      <td>21424</td>\n",
       "      <td>6</td>\n",
       "      <td>2017</td>\n",
       "      <td>Fiction</td>\n",
       "    </tr>\n",
       "    <tr>\n",
       "      <th>4</th>\n",
       "      <td>5,000 Awesome Facts (About Everything!) (Natio...</td>\n",
       "      <td>National Geographic Kids</td>\n",
       "      <td>4.8</td>\n",
       "      <td>7665</td>\n",
       "      <td>12</td>\n",
       "      <td>2019</td>\n",
       "      <td>Non Fiction</td>\n",
       "    </tr>\n",
       "  </tbody>\n",
       "</table>\n",
       "</div>"
      ],
      "text/plain": [
       "                                                Name  \\\n",
       "0                      10-Day Green Smoothie Cleanse   \n",
       "1                                  11/22/63: A Novel   \n",
       "2            12 Rules for Life: An Antidote to Chaos   \n",
       "3                             1984 (Signet Classics)   \n",
       "4  5,000 Awesome Facts (About Everything!) (Natio...   \n",
       "\n",
       "                     Author  User Rating  Reviews  Price  Year        Genre  \n",
       "0                  JJ Smith          4.7    17350      8  2016  Non Fiction  \n",
       "1              Stephen King          4.6     2052     22  2011      Fiction  \n",
       "2        Jordan B. Peterson          4.7    18979     15  2018  Non Fiction  \n",
       "3             George Orwell          4.7    21424      6  2017      Fiction  \n",
       "4  National Geographic Kids          4.8     7665     12  2019  Non Fiction  "
      ]
     },
     "execution_count": 3,
     "metadata": {},
     "output_type": "execute_result"
    }
   ],
   "source": [
    "\n",
    "#1.2\n",
    "data.head(5)"
   ]
  },
  {
   "cell_type": "markdown",
   "id": "c86aae23",
   "metadata": {},
   "source": [
    "### 1.3 Выведите размеры датасета (используйте атрибут shape)"
   ]
  },
  {
   "cell_type": "code",
   "execution_count": 4,
   "id": "721310b8",
   "metadata": {},
   "outputs": [
    {
     "data": {
      "text/plain": [
       "(550, 7)"
      ]
     },
     "execution_count": 4,
     "metadata": {},
     "output_type": "execute_result"
    }
   ],
   "source": [
    "\n",
    "data.shape"
   ]
  },
  {
   "cell_type": "markdown",
   "id": "cc50c5c1",
   "metadata": {},
   "source": [
    "\n",
    "### 1.4 Ответ: О скольки книгах хранит данные датасет?\n",
    "Здесь данные о 550 книгах - по 50 книг за каждый год с 2009 по 2019"
   ]
  },
  {
   "cell_type": "markdown",
   "id": "0defb883",
   "metadata": {},
   "source": [
    "### 1.5 Привести названия колонок к виду: 'name', 'author', 'user_rating', 'reviews', 'price', 'year', 'genre'"
   ]
  },
  {
   "cell_type": "code",
   "execution_count": 5,
   "id": "a4c3b9d0",
   "metadata": {},
   "outputs": [
    {
     "data": {
      "text/html": [
       "<div>\n",
       "<style scoped>\n",
       "    .dataframe tbody tr th:only-of-type {\n",
       "        vertical-align: middle;\n",
       "    }\n",
       "\n",
       "    .dataframe tbody tr th {\n",
       "        vertical-align: top;\n",
       "    }\n",
       "\n",
       "    .dataframe thead th {\n",
       "        text-align: right;\n",
       "    }\n",
       "</style>\n",
       "<table border=\"1\" class=\"dataframe\">\n",
       "  <thead>\n",
       "    <tr style=\"text-align: right;\">\n",
       "      <th></th>\n",
       "      <th>name</th>\n",
       "      <th>author</th>\n",
       "      <th>user_rating</th>\n",
       "      <th>reviews</th>\n",
       "      <th>price</th>\n",
       "      <th>year</th>\n",
       "      <th>genre</th>\n",
       "    </tr>\n",
       "  </thead>\n",
       "  <tbody>\n",
       "  </tbody>\n",
       "</table>\n",
       "</div>"
      ],
      "text/plain": [
       "Empty DataFrame\n",
       "Columns: [name, author, user_rating, reviews, price, year, genre]\n",
       "Index: []"
      ]
     },
     "execution_count": 5,
     "metadata": {},
     "output_type": "execute_result"
    }
   ],
   "source": [
    "data.columns = ['name', 'author', 'user_rating', 'reviews', 'price', 'year', 'genre']\n",
    "data.head(0)"
   ]
  },
  {
   "cell_type": "markdown",
   "id": "26a5b9bd",
   "metadata": {},
   "source": [
    "# ----------------------------------------------------"
   ]
  },
  {
   "cell_type": "markdown",
   "id": "4337b236",
   "metadata": {},
   "source": [
    "# 2. Первичное исследование данных\n",
    "2.1 Проверьте у всех ли строк хватает данных: выведите количество пропусков (na) в каждом из столбцов (используйте функции isna и sum)\n",
    "\n",
    "2.2 Ответ: Есть ли в каких либо переменных пропуски? (Да/Нет)\n",
    "\n",
    "2.3 Проверьте, какие есть уникальные значения в колонке genre (используйте функцию unique)\n",
    "\n",
    "2.4 Ответ: Какие есть уникальные жанры?\n",
    "\n",
    "2.5 Теперь посмотрите на распределение цен: постройте диаграмму (используйте kind='hist')\n",
    "\n",
    "2.6 Определите, какая цена у нас максимальная, минимальная, средняя, медианная (используйте функции max, min, mean, median)\n",
    "\n",
    "2.7 Ответ: Mаксимальная цена?\n",
    "\n",
    "2.8 Ответ: Минимальная цена?\n",
    "\n",
    "2.9 Ответ: Средняя цена?\n",
    "\n",
    "2.10 Ответ: Медианная цена?"
   ]
  },
  {
   "cell_type": "markdown",
   "id": "4efb1726",
   "metadata": {},
   "source": [
    "### 2.1 Проверьте у всех ли строк хватает данных: выведите количество пропусков (na) в каждом из столбцов (используйте функции isna и sum)"
   ]
  },
  {
   "cell_type": "code",
   "execution_count": 6,
   "id": "f7981673",
   "metadata": {},
   "outputs": [
    {
     "name": "stdout",
     "output_type": "stream",
     "text": [
      "name 0\n",
      "author 0\n",
      "user_rating 0\n",
      "reviews 0\n",
      "price 0\n",
      "year 0\n",
      "genre 0\n"
     ]
    }
   ],
   "source": [
    "for col in data:\n",
    "    print(col, sum(data[col].isna()))"
   ]
  },
  {
   "cell_type": "markdown",
   "id": "14c2d7c2",
   "metadata": {},
   "source": [
    "### 2.2 Ответ: Есть ли в каких либо переменных пропуски? (Да/Нет)"
   ]
  },
  {
   "cell_type": "markdown",
   "id": "9fc372a5",
   "metadata": {},
   "source": [
    "Нет"
   ]
  },
  {
   "cell_type": "markdown",
   "id": "8021f4a6",
   "metadata": {},
   "source": [
    "### 2.3 Проверьте, какие есть уникальные значения в колонке genre (используйте функцию unique)"
   ]
  },
  {
   "cell_type": "code",
   "execution_count": 7,
   "id": "8cb9acd1",
   "metadata": {},
   "outputs": [
    {
     "data": {
      "text/plain": [
       "array(['Non Fiction', 'Fiction'], dtype=object)"
      ]
     },
     "execution_count": 7,
     "metadata": {},
     "output_type": "execute_result"
    }
   ],
   "source": [
    "data['genre'].unique()"
   ]
  },
  {
   "cell_type": "markdown",
   "id": "0d2f8ec6",
   "metadata": {},
   "source": [
    "### 2.4 Ответ: Какие есть уникальные жанры?"
   ]
  },
  {
   "cell_type": "markdown",
   "id": "15887b8c",
   "metadata": {},
   "source": [
    "'Non Fiction', 'Fiction'"
   ]
  },
  {
   "cell_type": "markdown",
   "id": "cb487b80",
   "metadata": {},
   "source": [
    "### 2.5 Теперь посмотрите на распределение цен: постройте диаграмму (используйте kind='hist')"
   ]
  },
  {
   "cell_type": "code",
   "execution_count": 8,
   "id": "a7f20103",
   "metadata": {},
   "outputs": [
    {
     "data": {
      "text/plain": [
       "<AxesSubplot:ylabel='Frequency'>"
      ]
     },
     "execution_count": 8,
     "metadata": {},
     "output_type": "execute_result"
    },
    {
     "data": {
      "image/png": "[encoded data removed]",
      "text/plain": [
       "<Figure size 432x288 with 1 Axes>"
      ]
     },
     "metadata": {
      "needs_background": "light"
     },
     "output_type": "display_data"
    }
   ],
   "source": [
    "# work_table.plot.bar(x='Регіон',y = \"2019\")\n",
    "data.plot(kind = 'hist', x = 'name', y ='price' )"
   ]
  },
  {
   "cell_type": "markdown",
   "id": "42076c33",
   "metadata": {},
   "source": [
    "### 2.6 Определите, какая цена у нас максимальная, минимальная, средняя, медианная (используйте функции max, min, mean, median)"
   ]
  },
  {
   "cell_type": "code",
   "execution_count": 9,
   "id": "cdd539a2",
   "metadata": {},
   "outputs": [
    {
     "data": {
      "text/plain": [
       "105"
      ]
     },
     "execution_count": 9,
     "metadata": {},
     "output_type": "execute_result"
    }
   ],
   "source": [
    "data[\"price\"].max()"
   ]
  },
  {
   "cell_type": "code",
   "execution_count": 10,
   "id": "4a10b7e8",
   "metadata": {},
   "outputs": [
    {
     "data": {
      "text/plain": [
       "0"
      ]
     },
     "execution_count": 10,
     "metadata": {},
     "output_type": "execute_result"
    }
   ],
   "source": [
    "data[\"price\"].min()"
   ]
  },
  {
   "cell_type": "code",
   "execution_count": 11,
   "id": "c084fd5b",
   "metadata": {},
   "outputs": [
    {
     "data": {
      "text/plain": [
       "13.1"
      ]
     },
     "execution_count": 11,
     "metadata": {},
     "output_type": "execute_result"
    }
   ],
   "source": [
    "data[\"price\"].mean()"
   ]
  },
  {
   "cell_type": "code",
   "execution_count": 12,
   "id": "187457c2",
   "metadata": {},
   "outputs": [
    {
     "data": {
      "text/plain": [
       "11.0"
      ]
     },
     "execution_count": 12,
     "metadata": {},
     "output_type": "execute_result"
    }
   ],
   "source": [
    "data[\"price\"].median()"
   ]
  },
  {
   "cell_type": "markdown",
   "id": "c1b2f41b",
   "metadata": {},
   "source": [
    "### 2.7 Ответ: Mаксимальная цена?\n",
    "105\n",
    "### 2.8 Ответ: Минимальная цена?\n",
    "0\n",
    "### 2.9 Ответ: Средняя цена?\n",
    "13.1\n",
    "### 2.10 Ответ: Медианная цена?\n",
    "11.0"
   ]
  },
  {
   "cell_type": "markdown",
   "id": "454cca40",
   "metadata": {},
   "source": [
    "# ----------------------------------------------------"
   ]
  },
  {
   "cell_type": "markdown",
   "id": "ead8ed7c",
   "metadata": {},
   "source": [
    "# 3. Агрегирование данных и соединения таблиц\n",
    "\n",
    "3.1 Вывести максимальную и минимальную цены для каждого из жанров (используйте функции groupby и agg, для подсчета минимальных и максимальных значений используйте max и min). Не берите все столбцы, виберете только нужные вам\n",
    "\n",
    "3.2 Ответ: Максимальная цена для жанра Fiction: Ответ\n",
    "\n",
    "3.3 Ответ: Минимальная цена для жанра Fiction: Ответ\n",
    "\n",
    "3.4 Ответ: Максимальная цена для жанра Non Fiction: Ответ\n",
    "\n",
    "3.5 Ответ: Минимальная цена для жанра Non Fiction: Ответ\n",
    "\n",
    "3.6 Теперь создайте новый датафрейм, который будет вмещать в себя количество книг для каждого из авторов (используйте функции groupby и agg, для подсчета количества используйте count). Не берите все столбцы, виберете только нужные\n",
    "\n",
    "3.7 Ответ: Какой размерности вышла таблица? Ответ:\n",
    "\n",
    "3.8 Ответ: У какого автора больше всего книг? Ответ:\n",
    "\n",
    "3.9 Ответ: Сколько книг у этого автора? Ответ:\n",
    "\n",
    "3.10 Теперь создайте второй датафрейм, который будет вмещать средний рейтинг для каждого автора (используйте функции groupby и agg, для подсчета среднего значения используйте mean). Не берите все столбцы, виберете только нужные\n",
    "\n",
    "3.11 Ответ: У какого автора средний рейтинг минимальный? Ответ:\n",
    "\n",
    "3.12 Ответ: Какой у этого автора средний рейтинг? Ответ:\n",
    "\n",
    "3.13 Соедините последние два датафрейма так, чтобы для каждого автора было видно количество книг и средний рейтинг (Используйте функцию concat с параметром axis=1). Сохраните результат в переменную\n",
    "\n",
    "3.14 Отсортируйте датафрейм по возрастающему количеству книг и возрастающему рейтингу (используйте функцию sort_values)\n",
    "\n",
    "3.15 Ответ: Какой автор первый в списке?"
   ]
  },
  {
   "cell_type": "markdown",
   "id": "ae22867d",
   "metadata": {},
   "source": [
    "## 3.1 Вывести максимальную и минимальную цены для каждого из жанров (используйте функции groupby и agg, для подсчета минимальных и максимальных значений используйте max и min). Не берите все столбцы, виберете только нужные вам"
   ]
  },
  {
   "cell_type": "code",
   "execution_count": 13,
   "id": "8b215395",
   "metadata": {},
   "outputs": [
    {
     "data": {
      "text/html": [
       "<div>\n",
       "<style scoped>\n",
       "    .dataframe tbody tr th:only-of-type {\n",
       "        vertical-align: middle;\n",
       "    }\n",
       "\n",
       "    .dataframe tbody tr th {\n",
       "        vertical-align: top;\n",
       "    }\n",
       "\n",
       "    .dataframe thead tr th {\n",
       "        text-align: left;\n",
       "    }\n",
       "\n",
       "    .dataframe thead tr:last-of-type th {\n",
       "        text-align: right;\n",
       "    }\n",
       "</style>\n",
       "<table border=\"1\" class=\"dataframe\">\n",
       "  <thead>\n",
       "    <tr>\n",
       "      <th></th>\n",
       "      <th colspan=\"2\" halign=\"left\">price</th>\n",
       "    </tr>\n",
       "    <tr>\n",
       "      <th></th>\n",
       "      <th>min</th>\n",
       "      <th>max</th>\n",
       "    </tr>\n",
       "    <tr>\n",
       "      <th>genre</th>\n",
       "      <th></th>\n",
       "      <th></th>\n",
       "    </tr>\n",
       "  </thead>\n",
       "  <tbody>\n",
       "    <tr>\n",
       "      <th>Fiction</th>\n",
       "      <td>0</td>\n",
       "      <td>82</td>\n",
       "    </tr>\n",
       "    <tr>\n",
       "      <th>Non Fiction</th>\n",
       "      <td>0</td>\n",
       "      <td>105</td>\n",
       "    </tr>\n",
       "  </tbody>\n",
       "</table>\n",
       "</div>"
      ],
      "text/plain": [
       "            price     \n",
       "              min  max\n",
       "genre                 \n",
       "Fiction         0   82\n",
       "Non Fiction     0  105"
      ]
     },
     "execution_count": 13,
     "metadata": {},
     "output_type": "execute_result"
    }
   ],
   "source": [
    "group_genre = data.groupby('genre')\n",
    "group_genre.agg({'price': ['min','max']})"
   ]
  },
  {
   "cell_type": "markdown",
   "id": "d50534b0",
   "metadata": {},
   "source": [
    "### 3.2 Ответ: Максимальная цена для жанра Fiction: Ответ\n",
    "82\n",
    "### 3.3 Ответ: Минимальная цена для жанра Fiction: Ответ\n",
    "0\n",
    "### 3.4 Ответ: Максимальная цена для жанра Non Fiction: Ответ\n",
    "105\n",
    "### 3.5 Ответ: Минимальная цена для жанра Non Fiction: Ответ\n",
    "0"
   ]
  },
  {
   "cell_type": "markdown",
   "id": "b37c0df6",
   "metadata": {},
   "source": [
    "## 3.6 Теперь создайте новый датафрейм, который будет вмещать в себя количество книг для каждого из авторов (используйте функции groupby и agg, для подсчета количества используйте count). Не берите все столбцы, виберете только нужные\n",
    "\n"
   ]
  },
  {
   "cell_type": "code",
   "execution_count": 14,
   "id": "3323d3eb",
   "metadata": {},
   "outputs": [
    {
     "data": {
      "text/html": [
       "<div>\n",
       "<style scoped>\n",
       "    .dataframe tbody tr th:only-of-type {\n",
       "        vertical-align: middle;\n",
       "    }\n",
       "\n",
       "    .dataframe tbody tr th {\n",
       "        vertical-align: top;\n",
       "    }\n",
       "\n",
       "    .dataframe thead tr th {\n",
       "        text-align: left;\n",
       "    }\n",
       "\n",
       "    .dataframe thead tr:last-of-type th {\n",
       "        text-align: right;\n",
       "    }\n",
       "</style>\n",
       "<table border=\"1\" class=\"dataframe\">\n",
       "  <thead>\n",
       "    <tr>\n",
       "      <th></th>\n",
       "      <th>author</th>\n",
       "    </tr>\n",
       "    <tr>\n",
       "      <th></th>\n",
       "      <th>count</th>\n",
       "    </tr>\n",
       "    <tr>\n",
       "      <th>author</th>\n",
       "      <th></th>\n",
       "    </tr>\n",
       "  </thead>\n",
       "  <tbody>\n",
       "    <tr>\n",
       "      <th>Abraham Verghese</th>\n",
       "      <td>2</td>\n",
       "    </tr>\n",
       "    <tr>\n",
       "      <th>Adam Gasiewski</th>\n",
       "      <td>1</td>\n",
       "    </tr>\n",
       "    <tr>\n",
       "      <th>Adam Mansbach</th>\n",
       "      <td>1</td>\n",
       "    </tr>\n",
       "    <tr>\n",
       "      <th>Adir Levy</th>\n",
       "      <td>1</td>\n",
       "    </tr>\n",
       "    <tr>\n",
       "      <th>Admiral William H. McRaven</th>\n",
       "      <td>1</td>\n",
       "    </tr>\n",
       "    <tr>\n",
       "      <th>...</th>\n",
       "      <td>...</td>\n",
       "    </tr>\n",
       "    <tr>\n",
       "      <th>Walter Isaacson</th>\n",
       "      <td>3</td>\n",
       "    </tr>\n",
       "    <tr>\n",
       "      <th>William Davis</th>\n",
       "      <td>2</td>\n",
       "    </tr>\n",
       "    <tr>\n",
       "      <th>William P. Young</th>\n",
       "      <td>2</td>\n",
       "    </tr>\n",
       "    <tr>\n",
       "      <th>Wizards RPG Team</th>\n",
       "      <td>3</td>\n",
       "    </tr>\n",
       "    <tr>\n",
       "      <th>Zhi Gang Sha</th>\n",
       "      <td>2</td>\n",
       "    </tr>\n",
       "  </tbody>\n",
       "</table>\n",
       "<p>248 rows × 1 columns</p>\n",
       "</div>"
      ],
      "text/plain": [
       "                           author\n",
       "                            count\n",
       "author                           \n",
       "Abraham Verghese                2\n",
       "Adam Gasiewski                  1\n",
       "Adam Mansbach                   1\n",
       "Adir Levy                       1\n",
       "Admiral William H. McRaven      1\n",
       "...                           ...\n",
       "Walter Isaacson                 3\n",
       "William Davis                   2\n",
       "William P. Young                2\n",
       "Wizards RPG Team                3\n",
       "Zhi Gang Sha                    2\n",
       "\n",
       "[248 rows x 1 columns]"
      ]
     },
     "execution_count": 14,
     "metadata": {},
     "output_type": "execute_result"
    }
   ],
   "source": [
    "group_authors = data.groupby('author')\n",
    "group_authors.agg({'author':['count']})"
   ]
  },
  {
   "cell_type": "markdown",
   "id": "c45eedd0",
   "metadata": {},
   "source": [
    "### 3.7 Ответ: Какой размерности вышла таблица? Ответ:"
   ]
  },
  {
   "cell_type": "markdown",
   "id": "537b6c13",
   "metadata": {},
   "source": [
    "248x1"
   ]
  },
  {
   "cell_type": "markdown",
   "id": "abad7359",
   "metadata": {},
   "source": [
    "### 3.8 Ответ: У какого автора больше всего книг? Ответ:\n",
    "Jeff Kinney"
   ]
  },
  {
   "cell_type": "code",
   "execution_count": 15,
   "id": "9d0f6f4f",
   "metadata": {},
   "outputs": [
    {
     "data": {
      "text/html": [
       "<div>\n",
       "<style scoped>\n",
       "    .dataframe tbody tr th:only-of-type {\n",
       "        vertical-align: middle;\n",
       "    }\n",
       "\n",
       "    .dataframe tbody tr th {\n",
       "        vertical-align: top;\n",
       "    }\n",
       "\n",
       "    .dataframe thead tr th {\n",
       "        text-align: left;\n",
       "    }\n",
       "\n",
       "    .dataframe thead tr:last-of-type th {\n",
       "        text-align: right;\n",
       "    }\n",
       "</style>\n",
       "<table border=\"1\" class=\"dataframe\">\n",
       "  <thead>\n",
       "    <tr>\n",
       "      <th></th>\n",
       "      <th>author</th>\n",
       "    </tr>\n",
       "    <tr>\n",
       "      <th></th>\n",
       "      <th>count</th>\n",
       "    </tr>\n",
       "    <tr>\n",
       "      <th>author</th>\n",
       "      <th></th>\n",
       "    </tr>\n",
       "  </thead>\n",
       "  <tbody>\n",
       "    <tr>\n",
       "      <th>Jeff Kinney</th>\n",
       "      <td>12</td>\n",
       "    </tr>\n",
       "    <tr>\n",
       "      <th>Gary Chapman</th>\n",
       "      <td>11</td>\n",
       "    </tr>\n",
       "    <tr>\n",
       "      <th>Suzanne Collins</th>\n",
       "      <td>11</td>\n",
       "    </tr>\n",
       "    <tr>\n",
       "      <th>Rick Riordan</th>\n",
       "      <td>11</td>\n",
       "    </tr>\n",
       "    <tr>\n",
       "      <th>American Psychological Association</th>\n",
       "      <td>10</td>\n",
       "    </tr>\n",
       "    <tr>\n",
       "      <th>...</th>\n",
       "      <td>...</td>\n",
       "    </tr>\n",
       "    <tr>\n",
       "      <th>David Grann</th>\n",
       "      <td>1</td>\n",
       "    </tr>\n",
       "    <tr>\n",
       "      <th>Larry Schweikart</th>\n",
       "      <td>1</td>\n",
       "    </tr>\n",
       "    <tr>\n",
       "      <th>David McCullough</th>\n",
       "      <td>1</td>\n",
       "    </tr>\n",
       "    <tr>\n",
       "      <th>Khaled Hosseini</th>\n",
       "      <td>1</td>\n",
       "    </tr>\n",
       "    <tr>\n",
       "      <th>Muriel Barbery</th>\n",
       "      <td>1</td>\n",
       "    </tr>\n",
       "  </tbody>\n",
       "</table>\n",
       "<p>248 rows × 1 columns</p>\n",
       "</div>"
      ],
      "text/plain": [
       "                                   author\n",
       "                                    count\n",
       "author                                   \n",
       "Jeff Kinney                            12\n",
       "Gary Chapman                           11\n",
       "Suzanne Collins                        11\n",
       "Rick Riordan                           11\n",
       "American Psychological Association     10\n",
       "...                                   ...\n",
       "David Grann                             1\n",
       "Larry Schweikart                        1\n",
       "David McCullough                        1\n",
       "Khaled Hosseini                         1\n",
       "Muriel Barbery                          1\n",
       "\n",
       "[248 rows x 1 columns]"
      ]
     },
     "execution_count": 15,
     "metadata": {},
     "output_type": "execute_result"
    }
   ],
   "source": [
    "top_authors = group_authors.agg({'author':['count']})\n",
    "top_authors.sort_values([('author', 'count')],ascending=False)\n",
    "# I had a problem here with refering to column names. \n",
    "# For some reason, first, shape was 248x1 but df.column returned 2 column names\n",
    "# So, I reset indeces. Now, for some reason second column called [('author', 'count')]\n",
    "# But, at least, it works\n"
   ]
  },
  {
   "cell_type": "markdown",
   "id": "b2356eed",
   "metadata": {},
   "source": [
    "### 3.9 Ответ: Сколько книг у этого автора? Ответ:"
   ]
  },
  {
   "cell_type": "markdown",
   "id": "86e7cddf",
   "metadata": {},
   "source": [
    "12"
   ]
  },
  {
   "cell_type": "markdown",
   "id": "fa66c1b9",
   "metadata": {},
   "source": [
    "### 3.10 Теперь создайте второй датафрейм, который будет вмещать средний рейтинг для каждого автора (используйте функции groupby и agg, для подсчета среднего значения используйте mean). Не берите все столбцы, виберете только нужные"
   ]
  },
  {
   "cell_type": "code",
   "execution_count": 16,
   "id": "0f5cb58d",
   "metadata": {},
   "outputs": [
    {
     "data": {
      "text/html": [
       "<div>\n",
       "<style scoped>\n",
       "    .dataframe tbody tr th:only-of-type {\n",
       "        vertical-align: middle;\n",
       "    }\n",
       "\n",
       "    .dataframe tbody tr th {\n",
       "        vertical-align: top;\n",
       "    }\n",
       "\n",
       "    .dataframe thead tr th {\n",
       "        text-align: left;\n",
       "    }\n",
       "\n",
       "    .dataframe thead tr:last-of-type th {\n",
       "        text-align: right;\n",
       "    }\n",
       "</style>\n",
       "<table border=\"1\" class=\"dataframe\">\n",
       "  <thead>\n",
       "    <tr>\n",
       "      <th></th>\n",
       "      <th>user_rating</th>\n",
       "    </tr>\n",
       "    <tr>\n",
       "      <th></th>\n",
       "      <th>mean</th>\n",
       "    </tr>\n",
       "    <tr>\n",
       "      <th>author</th>\n",
       "      <th></th>\n",
       "    </tr>\n",
       "  </thead>\n",
       "  <tbody>\n",
       "    <tr>\n",
       "      <th>Abraham Verghese</th>\n",
       "      <td>4.6</td>\n",
       "    </tr>\n",
       "    <tr>\n",
       "      <th>Adam Gasiewski</th>\n",
       "      <td>4.4</td>\n",
       "    </tr>\n",
       "    <tr>\n",
       "      <th>Adam Mansbach</th>\n",
       "      <td>4.8</td>\n",
       "    </tr>\n",
       "    <tr>\n",
       "      <th>Adir Levy</th>\n",
       "      <td>4.8</td>\n",
       "    </tr>\n",
       "    <tr>\n",
       "      <th>Admiral William H. McRaven</th>\n",
       "      <td>4.7</td>\n",
       "    </tr>\n",
       "  </tbody>\n",
       "</table>\n",
       "</div>"
      ],
      "text/plain": [
       "                           user_rating\n",
       "                                  mean\n",
       "author                                \n",
       "Abraham Verghese                   4.6\n",
       "Adam Gasiewski                     4.4\n",
       "Adam Mansbach                      4.8\n",
       "Adir Levy                          4.8\n",
       "Admiral William H. McRaven         4.7"
      ]
     },
     "execution_count": 16,
     "metadata": {},
     "output_type": "execute_result"
    }
   ],
   "source": [
    "authors_avg_rating = group_authors.agg({'user_rating' : ['mean']})\n",
    "# group_genre = data.groupby('genre')\n",
    "authors_avg_rating.head(5)"
   ]
  },
  {
   "cell_type": "markdown",
   "id": "2b48036b",
   "metadata": {},
   "source": [
    "### 3.11 Ответ: У какого автора средний рейтинг минимальный? Ответ:\n",
    "Donna Tarttm"
   ]
  },
  {
   "cell_type": "code",
   "execution_count": 17,
   "id": "8ff912e6",
   "metadata": {},
   "outputs": [
    {
     "data": {
      "text/html": [
       "<div>\n",
       "<style scoped>\n",
       "    .dataframe tbody tr th:only-of-type {\n",
       "        vertical-align: middle;\n",
       "    }\n",
       "\n",
       "    .dataframe tbody tr th {\n",
       "        vertical-align: top;\n",
       "    }\n",
       "\n",
       "    .dataframe thead tr th {\n",
       "        text-align: left;\n",
       "    }\n",
       "\n",
       "    .dataframe thead tr:last-of-type th {\n",
       "        text-align: right;\n",
       "    }\n",
       "</style>\n",
       "<table border=\"1\" class=\"dataframe\">\n",
       "  <thead>\n",
       "    <tr>\n",
       "      <th></th>\n",
       "      <th>user_rating</th>\n",
       "    </tr>\n",
       "    <tr>\n",
       "      <th></th>\n",
       "      <th>mean</th>\n",
       "    </tr>\n",
       "    <tr>\n",
       "      <th>author</th>\n",
       "      <th></th>\n",
       "    </tr>\n",
       "  </thead>\n",
       "  <tbody>\n",
       "    <tr>\n",
       "      <th>Donna Tartt</th>\n",
       "      <td>3.9</td>\n",
       "    </tr>\n",
       "    <tr>\n",
       "      <th>Gillian Flynn</th>\n",
       "      <td>4.0</td>\n",
       "    </tr>\n",
       "    <tr>\n",
       "      <th>Muriel Barbery</th>\n",
       "      <td>4.0</td>\n",
       "    </tr>\n",
       "    <tr>\n",
       "      <th>Gallup</th>\n",
       "      <td>4.0</td>\n",
       "    </tr>\n",
       "    <tr>\n",
       "      <th>Ian K. Smith M.D.</th>\n",
       "      <td>4.1</td>\n",
       "    </tr>\n",
       "    <tr>\n",
       "      <th>...</th>\n",
       "      <td>...</td>\n",
       "    </tr>\n",
       "    <tr>\n",
       "      <th>Lin-Manuel Miranda</th>\n",
       "      <td>4.9</td>\n",
       "    </tr>\n",
       "    <tr>\n",
       "      <th>Patrick Thorpe</th>\n",
       "      <td>4.9</td>\n",
       "    </tr>\n",
       "    <tr>\n",
       "      <th>Nathan W. Pyle</th>\n",
       "      <td>4.9</td>\n",
       "    </tr>\n",
       "    <tr>\n",
       "      <th>Bill Martin Jr.</th>\n",
       "      <td>4.9</td>\n",
       "    </tr>\n",
       "    <tr>\n",
       "      <th>Jill Twiss</th>\n",
       "      <td>4.9</td>\n",
       "    </tr>\n",
       "  </tbody>\n",
       "</table>\n",
       "<p>248 rows × 1 columns</p>\n",
       "</div>"
      ],
      "text/plain": [
       "                   user_rating\n",
       "                          mean\n",
       "author                        \n",
       "Donna Tartt                3.9\n",
       "Gillian Flynn              4.0\n",
       "Muriel Barbery             4.0\n",
       "Gallup                     4.0\n",
       "Ian K. Smith M.D.          4.1\n",
       "...                        ...\n",
       "Lin-Manuel Miranda         4.9\n",
       "Patrick Thorpe             4.9\n",
       "Nathan W. Pyle             4.9\n",
       "Bill Martin Jr.            4.9\n",
       "Jill Twiss                 4.9\n",
       "\n",
       "[248 rows x 1 columns]"
      ]
     },
     "execution_count": 17,
     "metadata": {},
     "output_type": "execute_result"
    }
   ],
   "source": [
    "authors_avg_rating.sort_values([('user_rating','mean')],ascending=True)"
   ]
  },
  {
   "cell_type": "markdown",
   "id": "c0bb3c9e",
   "metadata": {},
   "source": [
    "### 3.12 Ответ: Какой у этого автора средний рейтинг? Ответ:\n",
    "3.9"
   ]
  },
  {
   "cell_type": "markdown",
   "id": "8513aee7",
   "metadata": {},
   "source": [
    "### 3.13 Соедините последние два датафрейма так, чтобы для каждого автора было видно количество книг и средний рейтинг (Используйте функцию concat с параметром axis=1). Сохраните результат в переменную"
   ]
  },
  {
   "cell_type": "code",
   "execution_count": 19,
   "id": "86b730c2",
   "metadata": {},
   "outputs": [
    {
     "data": {
      "text/html": [
       "<div>\n",
       "<style scoped>\n",
       "    .dataframe tbody tr th:only-of-type {\n",
       "        vertical-align: middle;\n",
       "    }\n",
       "\n",
       "    .dataframe tbody tr th {\n",
       "        vertical-align: top;\n",
       "    }\n",
       "\n",
       "    .dataframe thead tr th {\n",
       "        text-align: left;\n",
       "    }\n",
       "\n",
       "    .dataframe thead tr:last-of-type th {\n",
       "        text-align: right;\n",
       "    }\n",
       "</style>\n",
       "<table border=\"1\" class=\"dataframe\">\n",
       "  <thead>\n",
       "    <tr>\n",
       "      <th></th>\n",
       "      <th>author</th>\n",
       "      <th>user_rating</th>\n",
       "    </tr>\n",
       "    <tr>\n",
       "      <th></th>\n",
       "      <th>count</th>\n",
       "      <th>mean</th>\n",
       "    </tr>\n",
       "    <tr>\n",
       "      <th>author</th>\n",
       "      <th></th>\n",
       "      <th></th>\n",
       "    </tr>\n",
       "  </thead>\n",
       "  <tbody>\n",
       "    <tr>\n",
       "      <th>Abraham Verghese</th>\n",
       "      <td>2</td>\n",
       "      <td>4.6</td>\n",
       "    </tr>\n",
       "    <tr>\n",
       "      <th>Adam Gasiewski</th>\n",
       "      <td>1</td>\n",
       "      <td>4.4</td>\n",
       "    </tr>\n",
       "    <tr>\n",
       "      <th>Adam Mansbach</th>\n",
       "      <td>1</td>\n",
       "      <td>4.8</td>\n",
       "    </tr>\n",
       "    <tr>\n",
       "      <th>Adir Levy</th>\n",
       "      <td>1</td>\n",
       "      <td>4.8</td>\n",
       "    </tr>\n",
       "    <tr>\n",
       "      <th>Admiral William H. McRaven</th>\n",
       "      <td>1</td>\n",
       "      <td>4.7</td>\n",
       "    </tr>\n",
       "    <tr>\n",
       "      <th>Adult Coloring Book Designs</th>\n",
       "      <td>1</td>\n",
       "      <td>4.5</td>\n",
       "    </tr>\n",
       "    <tr>\n",
       "      <th>Alan Moore</th>\n",
       "      <td>1</td>\n",
       "      <td>4.8</td>\n",
       "    </tr>\n",
       "    <tr>\n",
       "      <th>Alex Michaelides</th>\n",
       "      <td>1</td>\n",
       "      <td>4.5</td>\n",
       "    </tr>\n",
       "  </tbody>\n",
       "</table>\n",
       "</div>"
      ],
      "text/plain": [
       "                            author user_rating\n",
       "                             count        mean\n",
       "author                                        \n",
       "Abraham Verghese                 2         4.6\n",
       "Adam Gasiewski                   1         4.4\n",
       "Adam Mansbach                    1         4.8\n",
       "Adir Levy                        1         4.8\n",
       "Admiral William H. McRaven       1         4.7\n",
       "Adult Coloring Book Designs      1         4.5\n",
       "Alan Moore                       1         4.8\n",
       "Alex Michaelides                 1         4.5"
      ]
     },
     "execution_count": 19,
     "metadata": {},
     "output_type": "execute_result"
    }
   ],
   "source": [
    "# frames = [df1, df2]\n",
    "  \n",
    "# result = pd.concat(frames)\n",
    "merged_data = pd.concat([top_authors,authors_avg_rating], axis = 1) \n",
    "merged_data.head(8)"
   ]
  },
  {
   "cell_type": "markdown",
   "id": "676aad30",
   "metadata": {},
   "source": [
    "### 3.14 Отсортируйте датафрейм по возрастающему количеству книг и возрастающему рейтингу (используйте функцию sort_values)\n",
    "\n"
   ]
  },
  {
   "cell_type": "code",
   "execution_count": 30,
   "id": "9b5ed7bd",
   "metadata": {},
   "outputs": [
    {
     "data": {
      "text/html": [
       "<div>\n",
       "<style scoped>\n",
       "    .dataframe tbody tr th:only-of-type {\n",
       "        vertical-align: middle;\n",
       "    }\n",
       "\n",
       "    .dataframe tbody tr th {\n",
       "        vertical-align: top;\n",
       "    }\n",
       "\n",
       "    .dataframe thead th {\n",
       "        text-align: right;\n",
       "    }\n",
       "</style>\n",
       "<table border=\"1\" class=\"dataframe\">\n",
       "  <thead>\n",
       "    <tr style=\"text-align: right;\">\n",
       "      <th></th>\n",
       "      <th>books</th>\n",
       "      <th>avg_rating</th>\n",
       "    </tr>\n",
       "    <tr>\n",
       "      <th>author</th>\n",
       "      <th></th>\n",
       "      <th></th>\n",
       "    </tr>\n",
       "  </thead>\n",
       "  <tbody>\n",
       "    <tr>\n",
       "      <th>Muriel Barbery</th>\n",
       "      <td>1</td>\n",
       "      <td>4.000000</td>\n",
       "    </tr>\n",
       "    <tr>\n",
       "      <th>Chris Cleave</th>\n",
       "      <td>1</td>\n",
       "      <td>4.100000</td>\n",
       "    </tr>\n",
       "    <tr>\n",
       "      <th>Ian K. Smith M.D.</th>\n",
       "      <td>1</td>\n",
       "      <td>4.100000</td>\n",
       "    </tr>\n",
       "    <tr>\n",
       "      <th>Pierre Dukan</th>\n",
       "      <td>1</td>\n",
       "      <td>4.100000</td>\n",
       "    </tr>\n",
       "    <tr>\n",
       "      <th>Elizabeth Strout</th>\n",
       "      <td>1</td>\n",
       "      <td>4.200000</td>\n",
       "    </tr>\n",
       "    <tr>\n",
       "      <th>...</th>\n",
       "      <td>...</td>\n",
       "      <td>...</td>\n",
       "    </tr>\n",
       "    <tr>\n",
       "      <th>American Psychological Association</th>\n",
       "      <td>10</td>\n",
       "      <td>4.500000</td>\n",
       "    </tr>\n",
       "    <tr>\n",
       "      <th>Suzanne Collins</th>\n",
       "      <td>11</td>\n",
       "      <td>4.663636</td>\n",
       "    </tr>\n",
       "    <tr>\n",
       "      <th>Gary Chapman</th>\n",
       "      <td>11</td>\n",
       "      <td>4.736364</td>\n",
       "    </tr>\n",
       "    <tr>\n",
       "      <th>Rick Riordan</th>\n",
       "      <td>11</td>\n",
       "      <td>4.772727</td>\n",
       "    </tr>\n",
       "    <tr>\n",
       "      <th>Jeff Kinney</th>\n",
       "      <td>12</td>\n",
       "      <td>4.800000</td>\n",
       "    </tr>\n",
       "  </tbody>\n",
       "</table>\n",
       "<p>248 rows × 2 columns</p>\n",
       "</div>"
      ],
      "text/plain": [
       "                                    books  avg_rating\n",
       "author                                               \n",
       "Muriel Barbery                          1    4.000000\n",
       "Chris Cleave                            1    4.100000\n",
       "Ian K. Smith M.D.                       1    4.100000\n",
       "Pierre Dukan                            1    4.100000\n",
       "Elizabeth Strout                        1    4.200000\n",
       "...                                   ...         ...\n",
       "American Psychological Association     10    4.500000\n",
       "Suzanne Collins                        11    4.663636\n",
       "Gary Chapman                           11    4.736364\n",
       "Rick Riordan                           11    4.772727\n",
       "Jeff Kinney                            12    4.800000\n",
       "\n",
       "[248 rows x 2 columns]"
      ]
     },
     "execution_count": 30,
     "metadata": {},
     "output_type": "execute_result"
    }
   ],
   "source": [
    "# merged_data.sort_values((['author','count'],['user_rating','mean']))\n",
    "merged_data.columns = [ 'books', 'avg_rating']\n",
    "merged_data.sort_values([ 'books', 'avg_rating'],ascending=True)"
   ]
  },
  {
   "cell_type": "markdown",
   "id": "443f4ee3",
   "metadata": {},
   "source": [
    "### 3.15 Ответ: Какой автор первый в списке?"
   ]
  },
  {
   "cell_type": "markdown",
   "id": "038b94a0",
   "metadata": {},
   "source": [
    "Muriel Barbery"
   ]
  }
 ],
 "metadata": {
  "kernelspec": {
   "display_name": "Python 3 (ipykernel)",
   "language": "python",
   "name": "python3"
  },
  "language_info": {
   "codemirror_mode": {
    "name": "ipython",
    "version": 3
   },
   "file_extension": ".py",
   "mimetype": "text/x-python",
   "name": "python",
   "nbconvert_exporter": "python",
   "pygments_lexer": "ipython3",
   "version": "3.9.7"
  }
 },
 "nbformat": 4,
 "nbformat_minor": 5
}
